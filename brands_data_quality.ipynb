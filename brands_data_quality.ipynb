{
  "nbformat": 4,
  "nbformat_minor": 0,
  "metadata": {
    "colab": {
      "provenance": []
    },
    "kernelspec": {
      "name": "python3",
      "display_name": "Python 3"
    },
    "language_info": {
      "name": "python"
    }
  },
  "cells": [
    {
      "cell_type": "markdown",
      "source": [
        "#### Importing the required libraries"
      ],
      "metadata": {
        "id": "G4RjAEBmyLBI"
      }
    },
    {
      "cell_type": "code",
      "execution_count": 1,
      "metadata": {
        "id": "ZyVfwZ7Pmng5"
      },
      "outputs": [],
      "source": [
        "import gzip\n",
        "import json\n",
        "import pandas as pd"
      ]
    },
    {
      "cell_type": "markdown",
      "source": [
        "#### Opening the json.gz files, and reading the dataset"
      ],
      "metadata": {
        "id": "I6yrfweHyKFf"
      }
    },
    {
      "cell_type": "code",
      "source": [
        "with gzip.open('/content/brands.json.gz', 'rb') as f:\n",
        "    file_contents = f.read()\n",
        "\n",
        "decoded_contents = file_contents.decode('utf-8')\n",
        "data = []\n",
        "decoder = json.JSONDecoder()\n",
        "\n",
        "# Parse each JSON object in the file\n",
        "while decoded_contents:\n",
        "    obj, idx = decoder.raw_decode(decoded_contents)\n",
        "    data.append(obj)\n",
        "    decoded_contents = decoded_contents[idx:].lstrip()\n",
        "\n",
        "# Create a DataFrame from the parsed JSON objects\n",
        "brands = pd.DataFrame(data)"
      ],
      "metadata": {
        "id": "wSOPJtXSmpjX"
      },
      "execution_count": 2,
      "outputs": []
    },
    {
      "cell_type": "code",
      "source": [
        "brands"
      ],
      "metadata": {
        "colab": {
          "base_uri": "https://localhost:8080/",
          "height": 641
        },
        "id": "l1_aOrDAmwY8",
        "outputId": "6495ff64-819f-45e5-b12c-b054c0e91680"
      },
      "execution_count": 3,
      "outputs": [
        {
          "output_type": "execute_result",
          "data": {
            "text/plain": [
              "                                       _id       barcode            category  \\\n",
              "0     {'$oid': '601ac115be37ce2ead437551'}  511111019862              Baking   \n",
              "1     {'$oid': '601c5460be37ce2ead43755f'}  511111519928           Beverages   \n",
              "2     {'$oid': '601ac142be37ce2ead43755d'}  511111819905              Baking   \n",
              "3     {'$oid': '601ac142be37ce2ead43755a'}  511111519874              Baking   \n",
              "4     {'$oid': '601ac142be37ce2ead43755e'}  511111319917      Candy & Sweets   \n",
              "...                                    ...           ...                 ...   \n",
              "1162  {'$oid': '5f77274dbe37ce6b592e90c0'}  511111116752              Baking   \n",
              "1163  {'$oid': '5dc1fca91dda2c0ad7da64ae'}  511111706328  Breakfast & Cereal   \n",
              "1164  {'$oid': '5f494c6e04db711dd8fe87e7'}  511111416173      Candy & Sweets   \n",
              "1165  {'$oid': '5a021611e4b00efe02b02a57'}  511111400608             Grocery   \n",
              "1166  {'$oid': '6026d757be37ce6369301468'}  511111019930              Baking   \n",
              "\n",
              "          categoryCode                                                cpg  \\\n",
              "0               BAKING  {'$id': {'$oid': '601ac114be37ce2ead437550'}, ...   \n",
              "1            BEVERAGES  {'$id': {'$oid': '5332f5fbe4b03c9a25efd0ba'}, ...   \n",
              "2               BAKING  {'$id': {'$oid': '601ac142be37ce2ead437559'}, ...   \n",
              "3               BAKING  {'$id': {'$oid': '601ac142be37ce2ead437559'}, ...   \n",
              "4     CANDY_AND_SWEETS  {'$id': {'$oid': '5332fa12e4b03c9a25efd1e7'}, ...   \n",
              "...                ...                                                ...   \n",
              "1162            BAKING  {'$ref': 'Cogs', '$id': {'$oid': '5f77274dbe37...   \n",
              "1163               NaN  {'$ref': 'Cogs', '$id': {'$oid': '53e10d6368ab...   \n",
              "1164  CANDY_AND_SWEETS  {'$ref': 'Cogs', '$id': {'$oid': '5332fa12e4b0...   \n",
              "1165               NaN  {'$ref': 'Cogs', '$id': {'$oid': '5332f5f6e4b0...   \n",
              "1166            BAKING  {'$id': {'$oid': '6026d757be37ce6369301467'}, ...   \n",
              "\n",
              "                           name topBrand                      brandCode  \n",
              "0     test brand @1612366101024    False                            NaN  \n",
              "1                     Starbucks    False                      STARBUCKS  \n",
              "2     test brand @1612366146176    False  TEST BRANDCODE @1612366146176  \n",
              "3     test brand @1612366146051    False  TEST BRANDCODE @1612366146051  \n",
              "4     test brand @1612366146827    False  TEST BRANDCODE @1612366146827  \n",
              "...                         ...      ...                            ...  \n",
              "1162  test brand @1601644365844      NaN                            NaN  \n",
              "1163        Dippin Dots® Cereal      NaN             DIPPIN DOTS CEREAL  \n",
              "1164  test brand @1598639215217      NaN  TEST BRANDCODE @1598639215217  \n",
              "1165          LIPTON TEA Leaves    False              LIPTON TEA Leaves  \n",
              "1166  test brand @1613158231643    False  TEST BRANDCODE @1613158231644  \n",
              "\n",
              "[1167 rows x 8 columns]"
            ],
            "text/html": [
              "\n",
              "  <div id=\"df-05c750d8-76c7-4dfa-9d00-6afde9b2a6d7\">\n",
              "    <div class=\"colab-df-container\">\n",
              "      <div>\n",
              "<style scoped>\n",
              "    .dataframe tbody tr th:only-of-type {\n",
              "        vertical-align: middle;\n",
              "    }\n",
              "\n",
              "    .dataframe tbody tr th {\n",
              "        vertical-align: top;\n",
              "    }\n",
              "\n",
              "    .dataframe thead th {\n",
              "        text-align: right;\n",
              "    }\n",
              "</style>\n",
              "<table border=\"1\" class=\"dataframe\">\n",
              "  <thead>\n",
              "    <tr style=\"text-align: right;\">\n",
              "      <th></th>\n",
              "      <th>_id</th>\n",
              "      <th>barcode</th>\n",
              "      <th>category</th>\n",
              "      <th>categoryCode</th>\n",
              "      <th>cpg</th>\n",
              "      <th>name</th>\n",
              "      <th>topBrand</th>\n",
              "      <th>brandCode</th>\n",
              "    </tr>\n",
              "  </thead>\n",
              "  <tbody>\n",
              "    <tr>\n",
              "      <th>0</th>\n",
              "      <td>{'$oid': '601ac115be37ce2ead437551'}</td>\n",
              "      <td>511111019862</td>\n",
              "      <td>Baking</td>\n",
              "      <td>BAKING</td>\n",
              "      <td>{'$id': {'$oid': '601ac114be37ce2ead437550'}, ...</td>\n",
              "      <td>test brand @1612366101024</td>\n",
              "      <td>False</td>\n",
              "      <td>NaN</td>\n",
              "    </tr>\n",
              "    <tr>\n",
              "      <th>1</th>\n",
              "      <td>{'$oid': '601c5460be37ce2ead43755f'}</td>\n",
              "      <td>511111519928</td>\n",
              "      <td>Beverages</td>\n",
              "      <td>BEVERAGES</td>\n",
              "      <td>{'$id': {'$oid': '5332f5fbe4b03c9a25efd0ba'}, ...</td>\n",
              "      <td>Starbucks</td>\n",
              "      <td>False</td>\n",
              "      <td>STARBUCKS</td>\n",
              "    </tr>\n",
              "    <tr>\n",
              "      <th>2</th>\n",
              "      <td>{'$oid': '601ac142be37ce2ead43755d'}</td>\n",
              "      <td>511111819905</td>\n",
              "      <td>Baking</td>\n",
              "      <td>BAKING</td>\n",
              "      <td>{'$id': {'$oid': '601ac142be37ce2ead437559'}, ...</td>\n",
              "      <td>test brand @1612366146176</td>\n",
              "      <td>False</td>\n",
              "      <td>TEST BRANDCODE @1612366146176</td>\n",
              "    </tr>\n",
              "    <tr>\n",
              "      <th>3</th>\n",
              "      <td>{'$oid': '601ac142be37ce2ead43755a'}</td>\n",
              "      <td>511111519874</td>\n",
              "      <td>Baking</td>\n",
              "      <td>BAKING</td>\n",
              "      <td>{'$id': {'$oid': '601ac142be37ce2ead437559'}, ...</td>\n",
              "      <td>test brand @1612366146051</td>\n",
              "      <td>False</td>\n",
              "      <td>TEST BRANDCODE @1612366146051</td>\n",
              "    </tr>\n",
              "    <tr>\n",
              "      <th>4</th>\n",
              "      <td>{'$oid': '601ac142be37ce2ead43755e'}</td>\n",
              "      <td>511111319917</td>\n",
              "      <td>Candy &amp; Sweets</td>\n",
              "      <td>CANDY_AND_SWEETS</td>\n",
              "      <td>{'$id': {'$oid': '5332fa12e4b03c9a25efd1e7'}, ...</td>\n",
              "      <td>test brand @1612366146827</td>\n",
              "      <td>False</td>\n",
              "      <td>TEST BRANDCODE @1612366146827</td>\n",
              "    </tr>\n",
              "    <tr>\n",
              "      <th>...</th>\n",
              "      <td>...</td>\n",
              "      <td>...</td>\n",
              "      <td>...</td>\n",
              "      <td>...</td>\n",
              "      <td>...</td>\n",
              "      <td>...</td>\n",
              "      <td>...</td>\n",
              "      <td>...</td>\n",
              "    </tr>\n",
              "    <tr>\n",
              "      <th>1162</th>\n",
              "      <td>{'$oid': '5f77274dbe37ce6b592e90c0'}</td>\n",
              "      <td>511111116752</td>\n",
              "      <td>Baking</td>\n",
              "      <td>BAKING</td>\n",
              "      <td>{'$ref': 'Cogs', '$id': {'$oid': '5f77274dbe37...</td>\n",
              "      <td>test brand @1601644365844</td>\n",
              "      <td>NaN</td>\n",
              "      <td>NaN</td>\n",
              "    </tr>\n",
              "    <tr>\n",
              "      <th>1163</th>\n",
              "      <td>{'$oid': '5dc1fca91dda2c0ad7da64ae'}</td>\n",
              "      <td>511111706328</td>\n",
              "      <td>Breakfast &amp; Cereal</td>\n",
              "      <td>NaN</td>\n",
              "      <td>{'$ref': 'Cogs', '$id': {'$oid': '53e10d6368ab...</td>\n",
              "      <td>Dippin Dots® Cereal</td>\n",
              "      <td>NaN</td>\n",
              "      <td>DIPPIN DOTS CEREAL</td>\n",
              "    </tr>\n",
              "    <tr>\n",
              "      <th>1164</th>\n",
              "      <td>{'$oid': '5f494c6e04db711dd8fe87e7'}</td>\n",
              "      <td>511111416173</td>\n",
              "      <td>Candy &amp; Sweets</td>\n",
              "      <td>CANDY_AND_SWEETS</td>\n",
              "      <td>{'$ref': 'Cogs', '$id': {'$oid': '5332fa12e4b0...</td>\n",
              "      <td>test brand @1598639215217</td>\n",
              "      <td>NaN</td>\n",
              "      <td>TEST BRANDCODE @1598639215217</td>\n",
              "    </tr>\n",
              "    <tr>\n",
              "      <th>1165</th>\n",
              "      <td>{'$oid': '5a021611e4b00efe02b02a57'}</td>\n",
              "      <td>511111400608</td>\n",
              "      <td>Grocery</td>\n",
              "      <td>NaN</td>\n",
              "      <td>{'$ref': 'Cogs', '$id': {'$oid': '5332f5f6e4b0...</td>\n",
              "      <td>LIPTON TEA Leaves</td>\n",
              "      <td>False</td>\n",
              "      <td>LIPTON TEA Leaves</td>\n",
              "    </tr>\n",
              "    <tr>\n",
              "      <th>1166</th>\n",
              "      <td>{'$oid': '6026d757be37ce6369301468'}</td>\n",
              "      <td>511111019930</td>\n",
              "      <td>Baking</td>\n",
              "      <td>BAKING</td>\n",
              "      <td>{'$id': {'$oid': '6026d757be37ce6369301467'}, ...</td>\n",
              "      <td>test brand @1613158231643</td>\n",
              "      <td>False</td>\n",
              "      <td>TEST BRANDCODE @1613158231644</td>\n",
              "    </tr>\n",
              "  </tbody>\n",
              "</table>\n",
              "<p>1167 rows × 8 columns</p>\n",
              "</div>\n",
              "      <button class=\"colab-df-convert\" onclick=\"convertToInteractive('df-05c750d8-76c7-4dfa-9d00-6afde9b2a6d7')\"\n",
              "              title=\"Convert this dataframe to an interactive table.\"\n",
              "              style=\"display:none;\">\n",
              "        \n",
              "  <svg xmlns=\"http://www.w3.org/2000/svg\" height=\"24px\"viewBox=\"0 0 24 24\"\n",
              "       width=\"24px\">\n",
              "    <path d=\"M0 0h24v24H0V0z\" fill=\"none\"/>\n",
              "    <path d=\"M18.56 5.44l.94 2.06.94-2.06 2.06-.94-2.06-.94-.94-2.06-.94 2.06-2.06.94zm-11 1L8.5 8.5l.94-2.06 2.06-.94-2.06-.94L8.5 2.5l-.94 2.06-2.06.94zm10 10l.94 2.06.94-2.06 2.06-.94-2.06-.94-.94-2.06-.94 2.06-2.06.94z\"/><path d=\"M17.41 7.96l-1.37-1.37c-.4-.4-.92-.59-1.43-.59-.52 0-1.04.2-1.43.59L10.3 9.45l-7.72 7.72c-.78.78-.78 2.05 0 2.83L4 21.41c.39.39.9.59 1.41.59.51 0 1.02-.2 1.41-.59l7.78-7.78 2.81-2.81c.8-.78.8-2.07 0-2.86zM5.41 20L4 18.59l7.72-7.72 1.47 1.35L5.41 20z\"/>\n",
              "  </svg>\n",
              "      </button>\n",
              "      \n",
              "  <style>\n",
              "    .colab-df-container {\n",
              "      display:flex;\n",
              "      flex-wrap:wrap;\n",
              "      gap: 12px;\n",
              "    }\n",
              "\n",
              "    .colab-df-convert {\n",
              "      background-color: #E8F0FE;\n",
              "      border: none;\n",
              "      border-radius: 50%;\n",
              "      cursor: pointer;\n",
              "      display: none;\n",
              "      fill: #1967D2;\n",
              "      height: 32px;\n",
              "      padding: 0 0 0 0;\n",
              "      width: 32px;\n",
              "    }\n",
              "\n",
              "    .colab-df-convert:hover {\n",
              "      background-color: #E2EBFA;\n",
              "      box-shadow: 0px 1px 2px rgba(60, 64, 67, 0.3), 0px 1px 3px 1px rgba(60, 64, 67, 0.15);\n",
              "      fill: #174EA6;\n",
              "    }\n",
              "\n",
              "    [theme=dark] .colab-df-convert {\n",
              "      background-color: #3B4455;\n",
              "      fill: #D2E3FC;\n",
              "    }\n",
              "\n",
              "    [theme=dark] .colab-df-convert:hover {\n",
              "      background-color: #434B5C;\n",
              "      box-shadow: 0px 1px 3px 1px rgba(0, 0, 0, 0.15);\n",
              "      filter: drop-shadow(0px 1px 2px rgba(0, 0, 0, 0.3));\n",
              "      fill: #FFFFFF;\n",
              "    }\n",
              "  </style>\n",
              "\n",
              "      <script>\n",
              "        const buttonEl =\n",
              "          document.querySelector('#df-05c750d8-76c7-4dfa-9d00-6afde9b2a6d7 button.colab-df-convert');\n",
              "        buttonEl.style.display =\n",
              "          google.colab.kernel.accessAllowed ? 'block' : 'none';\n",
              "\n",
              "        async function convertToInteractive(key) {\n",
              "          const element = document.querySelector('#df-05c750d8-76c7-4dfa-9d00-6afde9b2a6d7');\n",
              "          const dataTable =\n",
              "            await google.colab.kernel.invokeFunction('convertToInteractive',\n",
              "                                                     [key], {});\n",
              "          if (!dataTable) return;\n",
              "\n",
              "          const docLinkHtml = 'Like what you see? Visit the ' +\n",
              "            '<a target=\"_blank\" href=https://colab.research.google.com/notebooks/data_table.ipynb>data table notebook</a>'\n",
              "            + ' to learn more about interactive tables.';\n",
              "          element.innerHTML = '';\n",
              "          dataTable['output_type'] = 'display_data';\n",
              "          await google.colab.output.renderOutput(dataTable, element);\n",
              "          const docLink = document.createElement('div');\n",
              "          docLink.innerHTML = docLinkHtml;\n",
              "          element.appendChild(docLink);\n",
              "        }\n",
              "      </script>\n",
              "    </div>\n",
              "  </div>\n",
              "  "
            ]
          },
          "metadata": {},
          "execution_count": 3
        }
      ]
    },
    {
      "cell_type": "code",
      "source": [
        "brands.info()"
      ],
      "metadata": {
        "colab": {
          "base_uri": "https://localhost:8080/"
        },
        "id": "EQkDD_XMmxB_",
        "outputId": "5f1eb0b5-e07a-4383-995a-3d49c54a1fbe"
      },
      "execution_count": 4,
      "outputs": [
        {
          "output_type": "stream",
          "name": "stdout",
          "text": [
            "<class 'pandas.core.frame.DataFrame'>\n",
            "RangeIndex: 1167 entries, 0 to 1166\n",
            "Data columns (total 8 columns):\n",
            " #   Column        Non-Null Count  Dtype \n",
            "---  ------        --------------  ----- \n",
            " 0   _id           1167 non-null   object\n",
            " 1   barcode       1167 non-null   object\n",
            " 2   category      1012 non-null   object\n",
            " 3   categoryCode  517 non-null    object\n",
            " 4   cpg           1167 non-null   object\n",
            " 5   name          1167 non-null   object\n",
            " 6   topBrand      555 non-null    object\n",
            " 7   brandCode     933 non-null    object\n",
            "dtypes: object(8)\n",
            "memory usage: 73.1+ KB\n"
          ]
        }
      ]
    },
    {
      "cell_type": "markdown",
      "source": [
        "##### In the above output, we can see that there are a lot of missing values in `category`, `categoryCode`, `topBrand`, and `brandCode` features. Let us dig deeper into it."
      ],
      "metadata": {
        "id": "8g4MGFW0yYvg"
      }
    },
    {
      "cell_type": "markdown",
      "source": [
        "#### Checking for null values"
      ],
      "metadata": {
        "id": "GUI9j0B1zIUo"
      }
    },
    {
      "cell_type": "code",
      "source": [
        "brands.isnull().sum()"
      ],
      "metadata": {
        "colab": {
          "base_uri": "https://localhost:8080/"
        },
        "id": "2daVjBh2m2-B",
        "outputId": "2d320259-a282-4e74-93a0-dc6ff038e601"
      },
      "execution_count": 5,
      "outputs": [
        {
          "output_type": "execute_result",
          "data": {
            "text/plain": [
              "_id               0\n",
              "barcode           0\n",
              "category        155\n",
              "categoryCode    650\n",
              "cpg               0\n",
              "name              0\n",
              "topBrand        612\n",
              "brandCode       234\n",
              "dtype: int64"
            ]
          },
          "metadata": {},
          "execution_count": 5
        }
      ]
    },
    {
      "cell_type": "markdown",
      "source": [
        "#### Checking the percentage of null values"
      ],
      "metadata": {
        "id": "oTYA-ICYzJkE"
      }
    },
    {
      "cell_type": "code",
      "source": [
        "(brands.isnull().sum()/brands.shape[0]) * 100"
      ],
      "metadata": {
        "colab": {
          "base_uri": "https://localhost:8080/"
        },
        "id": "lYBUwVVjm6xr",
        "outputId": "5961b502-d518-4026-e1b3-0c90ad17513e"
      },
      "execution_count": 6,
      "outputs": [
        {
          "output_type": "execute_result",
          "data": {
            "text/plain": [
              "_id              0.000000\n",
              "barcode          0.000000\n",
              "category        13.281919\n",
              "categoryCode    55.698372\n",
              "cpg              0.000000\n",
              "name             0.000000\n",
              "topBrand        52.442159\n",
              "brandCode       20.051414\n",
              "dtype: float64"
            ]
          },
          "metadata": {},
          "execution_count": 6
        }
      ]
    },
    {
      "cell_type": "markdown",
      "source": [
        "#### Checking for duplicated values"
      ],
      "metadata": {
        "id": "UlChd3LfzQi7"
      }
    },
    {
      "cell_type": "markdown",
      "source": [
        "##### To inspect the duplicate rows in the dataset, we have to first change the data type of few feature such as `_id`, and `cpg`. The data types of these feature is dictionary, annd it should be changed into string format."
      ],
      "metadata": {
        "id": "1OKIyUsrzUTS"
      }
    },
    {
      "cell_type": "code",
      "source": [
        "dict_columns = ['_id', 'cpg']  # Specify the columns that contain dictionaries\n",
        "for column in dict_columns:\n",
        "    brands[column] = brands[column].apply(json.dumps)"
      ],
      "metadata": {
        "id": "n18ZdGoYzhXe"
      },
      "execution_count": 7,
      "outputs": []
    },
    {
      "cell_type": "code",
      "source": [
        "brands.duplicated()"
      ],
      "metadata": {
        "colab": {
          "base_uri": "https://localhost:8080/"
        },
        "id": "nEaOtNGizhUn",
        "outputId": "a4576373-98d3-4e51-c7e2-5c801ace19da"
      },
      "execution_count": 8,
      "outputs": [
        {
          "output_type": "execute_result",
          "data": {
            "text/plain": [
              "0       False\n",
              "1       False\n",
              "2       False\n",
              "3       False\n",
              "4       False\n",
              "        ...  \n",
              "1162    False\n",
              "1163    False\n",
              "1164    False\n",
              "1165    False\n",
              "1166    False\n",
              "Length: 1167, dtype: bool"
            ]
          },
          "metadata": {},
          "execution_count": 8
        }
      ]
    },
    {
      "cell_type": "code",
      "source": [
        "duplicates = brands.duplicated()\n",
        "duplicated_rows = brands[duplicates]\n",
        "duplicated_rows"
      ],
      "metadata": {
        "colab": {
          "base_uri": "https://localhost:8080/",
          "height": 49
        },
        "id": "3nSOtD6HzhRw",
        "outputId": "88e704dd-b672-4448-d5c2-02c695588760"
      },
      "execution_count": 9,
      "outputs": [
        {
          "output_type": "execute_result",
          "data": {
            "text/plain": [
              "Empty DataFrame\n",
              "Columns: [_id, barcode, category, categoryCode, cpg, name, topBrand, brandCode]\n",
              "Index: []"
            ],
            "text/html": [
              "\n",
              "  <div id=\"df-92072ffd-32bc-4ea9-adda-d0ae3080132a\">\n",
              "    <div class=\"colab-df-container\">\n",
              "      <div>\n",
              "<style scoped>\n",
              "    .dataframe tbody tr th:only-of-type {\n",
              "        vertical-align: middle;\n",
              "    }\n",
              "\n",
              "    .dataframe tbody tr th {\n",
              "        vertical-align: top;\n",
              "    }\n",
              "\n",
              "    .dataframe thead th {\n",
              "        text-align: right;\n",
              "    }\n",
              "</style>\n",
              "<table border=\"1\" class=\"dataframe\">\n",
              "  <thead>\n",
              "    <tr style=\"text-align: right;\">\n",
              "      <th></th>\n",
              "      <th>_id</th>\n",
              "      <th>barcode</th>\n",
              "      <th>category</th>\n",
              "      <th>categoryCode</th>\n",
              "      <th>cpg</th>\n",
              "      <th>name</th>\n",
              "      <th>topBrand</th>\n",
              "      <th>brandCode</th>\n",
              "    </tr>\n",
              "  </thead>\n",
              "  <tbody>\n",
              "  </tbody>\n",
              "</table>\n",
              "</div>\n",
              "      <button class=\"colab-df-convert\" onclick=\"convertToInteractive('df-92072ffd-32bc-4ea9-adda-d0ae3080132a')\"\n",
              "              title=\"Convert this dataframe to an interactive table.\"\n",
              "              style=\"display:none;\">\n",
              "        \n",
              "  <svg xmlns=\"http://www.w3.org/2000/svg\" height=\"24px\"viewBox=\"0 0 24 24\"\n",
              "       width=\"24px\">\n",
              "    <path d=\"M0 0h24v24H0V0z\" fill=\"none\"/>\n",
              "    <path d=\"M18.56 5.44l.94 2.06.94-2.06 2.06-.94-2.06-.94-.94-2.06-.94 2.06-2.06.94zm-11 1L8.5 8.5l.94-2.06 2.06-.94-2.06-.94L8.5 2.5l-.94 2.06-2.06.94zm10 10l.94 2.06.94-2.06 2.06-.94-2.06-.94-.94-2.06-.94 2.06-2.06.94z\"/><path d=\"M17.41 7.96l-1.37-1.37c-.4-.4-.92-.59-1.43-.59-.52 0-1.04.2-1.43.59L10.3 9.45l-7.72 7.72c-.78.78-.78 2.05 0 2.83L4 21.41c.39.39.9.59 1.41.59.51 0 1.02-.2 1.41-.59l7.78-7.78 2.81-2.81c.8-.78.8-2.07 0-2.86zM5.41 20L4 18.59l7.72-7.72 1.47 1.35L5.41 20z\"/>\n",
              "  </svg>\n",
              "      </button>\n",
              "      \n",
              "  <style>\n",
              "    .colab-df-container {\n",
              "      display:flex;\n",
              "      flex-wrap:wrap;\n",
              "      gap: 12px;\n",
              "    }\n",
              "\n",
              "    .colab-df-convert {\n",
              "      background-color: #E8F0FE;\n",
              "      border: none;\n",
              "      border-radius: 50%;\n",
              "      cursor: pointer;\n",
              "      display: none;\n",
              "      fill: #1967D2;\n",
              "      height: 32px;\n",
              "      padding: 0 0 0 0;\n",
              "      width: 32px;\n",
              "    }\n",
              "\n",
              "    .colab-df-convert:hover {\n",
              "      background-color: #E2EBFA;\n",
              "      box-shadow: 0px 1px 2px rgba(60, 64, 67, 0.3), 0px 1px 3px 1px rgba(60, 64, 67, 0.15);\n",
              "      fill: #174EA6;\n",
              "    }\n",
              "\n",
              "    [theme=dark] .colab-df-convert {\n",
              "      background-color: #3B4455;\n",
              "      fill: #D2E3FC;\n",
              "    }\n",
              "\n",
              "    [theme=dark] .colab-df-convert:hover {\n",
              "      background-color: #434B5C;\n",
              "      box-shadow: 0px 1px 3px 1px rgba(0, 0, 0, 0.15);\n",
              "      filter: drop-shadow(0px 1px 2px rgba(0, 0, 0, 0.3));\n",
              "      fill: #FFFFFF;\n",
              "    }\n",
              "  </style>\n",
              "\n",
              "      <script>\n",
              "        const buttonEl =\n",
              "          document.querySelector('#df-92072ffd-32bc-4ea9-adda-d0ae3080132a button.colab-df-convert');\n",
              "        buttonEl.style.display =\n",
              "          google.colab.kernel.accessAllowed ? 'block' : 'none';\n",
              "\n",
              "        async function convertToInteractive(key) {\n",
              "          const element = document.querySelector('#df-92072ffd-32bc-4ea9-adda-d0ae3080132a');\n",
              "          const dataTable =\n",
              "            await google.colab.kernel.invokeFunction('convertToInteractive',\n",
              "                                                     [key], {});\n",
              "          if (!dataTable) return;\n",
              "\n",
              "          const docLinkHtml = 'Like what you see? Visit the ' +\n",
              "            '<a target=\"_blank\" href=https://colab.research.google.com/notebooks/data_table.ipynb>data table notebook</a>'\n",
              "            + ' to learn more about interactive tables.';\n",
              "          element.innerHTML = '';\n",
              "          dataTable['output_type'] = 'display_data';\n",
              "          await google.colab.output.renderOutput(dataTable, element);\n",
              "          const docLink = document.createElement('div');\n",
              "          docLink.innerHTML = docLinkHtml;\n",
              "          element.appendChild(docLink);\n",
              "        }\n",
              "      </script>\n",
              "    </div>\n",
              "  </div>\n",
              "  "
            ]
          },
          "metadata": {},
          "execution_count": 9
        }
      ]
    },
    {
      "cell_type": "markdown",
      "source": [
        "## Data quality issues found in the dataset are:\n",
        "\n",
        "1. We can observe that there are missing values in the brands dataset. The highest number of missing values are observed in the `categoryCode` and `topBrand` features with 56% and 52% respectively. also, there are few missing values in `category` and `topBrand` features with 13% and 20% respectively.\n",
        "\n",
        "2. There are no duplicated rows in the brands dataset."
      ],
      "metadata": {
        "id": "FveyTjF1fx5S"
      }
    },
    {
      "cell_type": "code",
      "source": [],
      "metadata": {
        "id": "fg7Io23Vz33X"
      },
      "execution_count": 9,
      "outputs": []
    },
    {
      "cell_type": "code",
      "source": [],
      "metadata": {
        "id": "mXVQah3knHnq"
      },
      "execution_count": 9,
      "outputs": []
    }
  ]
}
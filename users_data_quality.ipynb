{
  "nbformat": 4,
  "nbformat_minor": 0,
  "metadata": {
    "colab": {
      "provenance": []
    },
    "kernelspec": {
      "name": "python3",
      "display_name": "Python 3"
    },
    "language_info": {
      "name": "python"
    }
  },
  "cells": [
    {
      "cell_type": "markdown",
      "source": [
        "#### Importing the required libraries"
      ],
      "metadata": {
        "id": "RYgC7-SEyRUk"
      }
    },
    {
      "cell_type": "code",
      "execution_count": 1,
      "metadata": {
        "id": "6Hxiu5UMVyQV"
      },
      "outputs": [],
      "source": [
        "import gzip\n",
        "import json\n",
        "import pandas as pd"
      ]
    },
    {
      "cell_type": "markdown",
      "source": [
        "#### Opening the json.gz files, and reading the dataset"
      ],
      "metadata": {
        "id": "Hya86T7aq3DI"
      }
    },
    {
      "cell_type": "code",
      "source": [
        "with gzip.open('/content/users.json.gz', 'rb') as f:\n",
        "    file_contents = f.read()\n",
        "\n",
        "decoded_contents = file_contents.decode('utf-8')\n",
        "data = []\n",
        "decoder = json.JSONDecoder()\n",
        "\n",
        "# Parsing the JSON files\n",
        "while decoded_contents:\n",
        "    obj, idx = decoder.raw_decode(decoded_contents)\n",
        "    data.append(obj)\n",
        "    decoded_contents = decoded_contents[idx:].lstrip()\n",
        "\n",
        "# creating the dataset as a dataframe\n",
        "users = pd.DataFrame(data)"
      ],
      "metadata": {
        "id": "Tv6M7hz6WE8C"
      },
      "execution_count": 2,
      "outputs": []
    },
    {
      "cell_type": "code",
      "source": [
        "users"
      ],
      "metadata": {
        "colab": {
          "base_uri": "https://localhost:8080/",
          "height": 423
        },
        "id": "Oj1etslpWJzX",
        "outputId": "e39b4a9c-b854-4170-a4ba-2aba54646a6b"
      },
      "execution_count": 3,
      "outputs": [
        {
          "output_type": "execute_result",
          "data": {
            "text/plain": [
              "                                      _id  active               createdDate  \\\n",
              "0    {'$oid': '5ff1e194b6a9d73a3a9f1052'}    True  {'$date': 1609687444800}   \n",
              "1    {'$oid': '5ff1e194b6a9d73a3a9f1052'}    True  {'$date': 1609687444800}   \n",
              "2    {'$oid': '5ff1e194b6a9d73a3a9f1052'}    True  {'$date': 1609687444800}   \n",
              "3    {'$oid': '5ff1e1eacfcf6c399c274ae6'}    True  {'$date': 1609687530554}   \n",
              "4    {'$oid': '5ff1e194b6a9d73a3a9f1052'}    True  {'$date': 1609687444800}   \n",
              "..                                    ...     ...                       ...   \n",
              "490  {'$oid': '54943462e4b07e684157a532'}    True  {'$date': 1418998882381}   \n",
              "491  {'$oid': '54943462e4b07e684157a532'}    True  {'$date': 1418998882381}   \n",
              "492  {'$oid': '54943462e4b07e684157a532'}    True  {'$date': 1418998882381}   \n",
              "493  {'$oid': '54943462e4b07e684157a532'}    True  {'$date': 1418998882381}   \n",
              "494  {'$oid': '54943462e4b07e684157a532'}    True  {'$date': 1418998882381}   \n",
              "\n",
              "                    lastLogin         role signUpSource state  \n",
              "0    {'$date': 1609687537858}     consumer        Email    WI  \n",
              "1    {'$date': 1609687537858}     consumer        Email    WI  \n",
              "2    {'$date': 1609687537858}     consumer        Email    WI  \n",
              "3    {'$date': 1609687530597}     consumer        Email    WI  \n",
              "4    {'$date': 1609687537858}     consumer        Email    WI  \n",
              "..                        ...          ...          ...   ...  \n",
              "490  {'$date': 1614963143204}  fetch-staff          NaN   NaN  \n",
              "491  {'$date': 1614963143204}  fetch-staff          NaN   NaN  \n",
              "492  {'$date': 1614963143204}  fetch-staff          NaN   NaN  \n",
              "493  {'$date': 1614963143204}  fetch-staff          NaN   NaN  \n",
              "494  {'$date': 1614963143204}  fetch-staff          NaN   NaN  \n",
              "\n",
              "[495 rows x 7 columns]"
            ],
            "text/html": [
              "\n",
              "  <div id=\"df-d4e6f53d-1b4f-4fb6-8e29-77d5e8345f81\">\n",
              "    <div class=\"colab-df-container\">\n",
              "      <div>\n",
              "<style scoped>\n",
              "    .dataframe tbody tr th:only-of-type {\n",
              "        vertical-align: middle;\n",
              "    }\n",
              "\n",
              "    .dataframe tbody tr th {\n",
              "        vertical-align: top;\n",
              "    }\n",
              "\n",
              "    .dataframe thead th {\n",
              "        text-align: right;\n",
              "    }\n",
              "</style>\n",
              "<table border=\"1\" class=\"dataframe\">\n",
              "  <thead>\n",
              "    <tr style=\"text-align: right;\">\n",
              "      <th></th>\n",
              "      <th>_id</th>\n",
              "      <th>active</th>\n",
              "      <th>createdDate</th>\n",
              "      <th>lastLogin</th>\n",
              "      <th>role</th>\n",
              "      <th>signUpSource</th>\n",
              "      <th>state</th>\n",
              "    </tr>\n",
              "  </thead>\n",
              "  <tbody>\n",
              "    <tr>\n",
              "      <th>0</th>\n",
              "      <td>{'$oid': '5ff1e194b6a9d73a3a9f1052'}</td>\n",
              "      <td>True</td>\n",
              "      <td>{'$date': 1609687444800}</td>\n",
              "      <td>{'$date': 1609687537858}</td>\n",
              "      <td>consumer</td>\n",
              "      <td>Email</td>\n",
              "      <td>WI</td>\n",
              "    </tr>\n",
              "    <tr>\n",
              "      <th>1</th>\n",
              "      <td>{'$oid': '5ff1e194b6a9d73a3a9f1052'}</td>\n",
              "      <td>True</td>\n",
              "      <td>{'$date': 1609687444800}</td>\n",
              "      <td>{'$date': 1609687537858}</td>\n",
              "      <td>consumer</td>\n",
              "      <td>Email</td>\n",
              "      <td>WI</td>\n",
              "    </tr>\n",
              "    <tr>\n",
              "      <th>2</th>\n",
              "      <td>{'$oid': '5ff1e194b6a9d73a3a9f1052'}</td>\n",
              "      <td>True</td>\n",
              "      <td>{'$date': 1609687444800}</td>\n",
              "      <td>{'$date': 1609687537858}</td>\n",
              "      <td>consumer</td>\n",
              "      <td>Email</td>\n",
              "      <td>WI</td>\n",
              "    </tr>\n",
              "    <tr>\n",
              "      <th>3</th>\n",
              "      <td>{'$oid': '5ff1e1eacfcf6c399c274ae6'}</td>\n",
              "      <td>True</td>\n",
              "      <td>{'$date': 1609687530554}</td>\n",
              "      <td>{'$date': 1609687530597}</td>\n",
              "      <td>consumer</td>\n",
              "      <td>Email</td>\n",
              "      <td>WI</td>\n",
              "    </tr>\n",
              "    <tr>\n",
              "      <th>4</th>\n",
              "      <td>{'$oid': '5ff1e194b6a9d73a3a9f1052'}</td>\n",
              "      <td>True</td>\n",
              "      <td>{'$date': 1609687444800}</td>\n",
              "      <td>{'$date': 1609687537858}</td>\n",
              "      <td>consumer</td>\n",
              "      <td>Email</td>\n",
              "      <td>WI</td>\n",
              "    </tr>\n",
              "    <tr>\n",
              "      <th>...</th>\n",
              "      <td>...</td>\n",
              "      <td>...</td>\n",
              "      <td>...</td>\n",
              "      <td>...</td>\n",
              "      <td>...</td>\n",
              "      <td>...</td>\n",
              "      <td>...</td>\n",
              "    </tr>\n",
              "    <tr>\n",
              "      <th>490</th>\n",
              "      <td>{'$oid': '54943462e4b07e684157a532'}</td>\n",
              "      <td>True</td>\n",
              "      <td>{'$date': 1418998882381}</td>\n",
              "      <td>{'$date': 1614963143204}</td>\n",
              "      <td>fetch-staff</td>\n",
              "      <td>NaN</td>\n",
              "      <td>NaN</td>\n",
              "    </tr>\n",
              "    <tr>\n",
              "      <th>491</th>\n",
              "      <td>{'$oid': '54943462e4b07e684157a532'}</td>\n",
              "      <td>True</td>\n",
              "      <td>{'$date': 1418998882381}</td>\n",
              "      <td>{'$date': 1614963143204}</td>\n",
              "      <td>fetch-staff</td>\n",
              "      <td>NaN</td>\n",
              "      <td>NaN</td>\n",
              "    </tr>\n",
              "    <tr>\n",
              "      <th>492</th>\n",
              "      <td>{'$oid': '54943462e4b07e684157a532'}</td>\n",
              "      <td>True</td>\n",
              "      <td>{'$date': 1418998882381}</td>\n",
              "      <td>{'$date': 1614963143204}</td>\n",
              "      <td>fetch-staff</td>\n",
              "      <td>NaN</td>\n",
              "      <td>NaN</td>\n",
              "    </tr>\n",
              "    <tr>\n",
              "      <th>493</th>\n",
              "      <td>{'$oid': '54943462e4b07e684157a532'}</td>\n",
              "      <td>True</td>\n",
              "      <td>{'$date': 1418998882381}</td>\n",
              "      <td>{'$date': 1614963143204}</td>\n",
              "      <td>fetch-staff</td>\n",
              "      <td>NaN</td>\n",
              "      <td>NaN</td>\n",
              "    </tr>\n",
              "    <tr>\n",
              "      <th>494</th>\n",
              "      <td>{'$oid': '54943462e4b07e684157a532'}</td>\n",
              "      <td>True</td>\n",
              "      <td>{'$date': 1418998882381}</td>\n",
              "      <td>{'$date': 1614963143204}</td>\n",
              "      <td>fetch-staff</td>\n",
              "      <td>NaN</td>\n",
              "      <td>NaN</td>\n",
              "    </tr>\n",
              "  </tbody>\n",
              "</table>\n",
              "<p>495 rows × 7 columns</p>\n",
              "</div>\n",
              "      <button class=\"colab-df-convert\" onclick=\"convertToInteractive('df-d4e6f53d-1b4f-4fb6-8e29-77d5e8345f81')\"\n",
              "              title=\"Convert this dataframe to an interactive table.\"\n",
              "              style=\"display:none;\">\n",
              "        \n",
              "  <svg xmlns=\"http://www.w3.org/2000/svg\" height=\"24px\"viewBox=\"0 0 24 24\"\n",
              "       width=\"24px\">\n",
              "    <path d=\"M0 0h24v24H0V0z\" fill=\"none\"/>\n",
              "    <path d=\"M18.56 5.44l.94 2.06.94-2.06 2.06-.94-2.06-.94-.94-2.06-.94 2.06-2.06.94zm-11 1L8.5 8.5l.94-2.06 2.06-.94-2.06-.94L8.5 2.5l-.94 2.06-2.06.94zm10 10l.94 2.06.94-2.06 2.06-.94-2.06-.94-.94-2.06-.94 2.06-2.06.94z\"/><path d=\"M17.41 7.96l-1.37-1.37c-.4-.4-.92-.59-1.43-.59-.52 0-1.04.2-1.43.59L10.3 9.45l-7.72 7.72c-.78.78-.78 2.05 0 2.83L4 21.41c.39.39.9.59 1.41.59.51 0 1.02-.2 1.41-.59l7.78-7.78 2.81-2.81c.8-.78.8-2.07 0-2.86zM5.41 20L4 18.59l7.72-7.72 1.47 1.35L5.41 20z\"/>\n",
              "  </svg>\n",
              "      </button>\n",
              "      \n",
              "  <style>\n",
              "    .colab-df-container {\n",
              "      display:flex;\n",
              "      flex-wrap:wrap;\n",
              "      gap: 12px;\n",
              "    }\n",
              "\n",
              "    .colab-df-convert {\n",
              "      background-color: #E8F0FE;\n",
              "      border: none;\n",
              "      border-radius: 50%;\n",
              "      cursor: pointer;\n",
              "      display: none;\n",
              "      fill: #1967D2;\n",
              "      height: 32px;\n",
              "      padding: 0 0 0 0;\n",
              "      width: 32px;\n",
              "    }\n",
              "\n",
              "    .colab-df-convert:hover {\n",
              "      background-color: #E2EBFA;\n",
              "      box-shadow: 0px 1px 2px rgba(60, 64, 67, 0.3), 0px 1px 3px 1px rgba(60, 64, 67, 0.15);\n",
              "      fill: #174EA6;\n",
              "    }\n",
              "\n",
              "    [theme=dark] .colab-df-convert {\n",
              "      background-color: #3B4455;\n",
              "      fill: #D2E3FC;\n",
              "    }\n",
              "\n",
              "    [theme=dark] .colab-df-convert:hover {\n",
              "      background-color: #434B5C;\n",
              "      box-shadow: 0px 1px 3px 1px rgba(0, 0, 0, 0.15);\n",
              "      filter: drop-shadow(0px 1px 2px rgba(0, 0, 0, 0.3));\n",
              "      fill: #FFFFFF;\n",
              "    }\n",
              "  </style>\n",
              "\n",
              "      <script>\n",
              "        const buttonEl =\n",
              "          document.querySelector('#df-d4e6f53d-1b4f-4fb6-8e29-77d5e8345f81 button.colab-df-convert');\n",
              "        buttonEl.style.display =\n",
              "          google.colab.kernel.accessAllowed ? 'block' : 'none';\n",
              "\n",
              "        async function convertToInteractive(key) {\n",
              "          const element = document.querySelector('#df-d4e6f53d-1b4f-4fb6-8e29-77d5e8345f81');\n",
              "          const dataTable =\n",
              "            await google.colab.kernel.invokeFunction('convertToInteractive',\n",
              "                                                     [key], {});\n",
              "          if (!dataTable) return;\n",
              "\n",
              "          const docLinkHtml = 'Like what you see? Visit the ' +\n",
              "            '<a target=\"_blank\" href=https://colab.research.google.com/notebooks/data_table.ipynb>data table notebook</a>'\n",
              "            + ' to learn more about interactive tables.';\n",
              "          element.innerHTML = '';\n",
              "          dataTable['output_type'] = 'display_data';\n",
              "          await google.colab.output.renderOutput(dataTable, element);\n",
              "          const docLink = document.createElement('div');\n",
              "          docLink.innerHTML = docLinkHtml;\n",
              "          element.appendChild(docLink);\n",
              "        }\n",
              "      </script>\n",
              "    </div>\n",
              "  </div>\n",
              "  "
            ]
          },
          "metadata": {},
          "execution_count": 3
        }
      ]
    },
    {
      "cell_type": "code",
      "source": [
        "users.info()"
      ],
      "metadata": {
        "colab": {
          "base_uri": "https://localhost:8080/"
        },
        "id": "Kjl8cjzhWygu",
        "outputId": "2763addc-508e-4a14-acc0-5c619a3a5114"
      },
      "execution_count": 4,
      "outputs": [
        {
          "output_type": "stream",
          "name": "stdout",
          "text": [
            "<class 'pandas.core.frame.DataFrame'>\n",
            "RangeIndex: 495 entries, 0 to 494\n",
            "Data columns (total 7 columns):\n",
            " #   Column        Non-Null Count  Dtype \n",
            "---  ------        --------------  ----- \n",
            " 0   _id           495 non-null    object\n",
            " 1   active        495 non-null    bool  \n",
            " 2   createdDate   495 non-null    object\n",
            " 3   lastLogin     433 non-null    object\n",
            " 4   role          495 non-null    object\n",
            " 5   signUpSource  447 non-null    object\n",
            " 6   state         439 non-null    object\n",
            "dtypes: bool(1), object(6)\n",
            "memory usage: 23.8+ KB\n"
          ]
        }
      ]
    },
    {
      "cell_type": "markdown",
      "source": [
        "##### In the above output, we can see that there are some missing values in `lastLogin`, `signUpSource`, and state features. Let us dig deeper into it."
      ],
      "metadata": {
        "id": "ORMIGsYs38Vf"
      }
    },
    {
      "cell_type": "markdown",
      "source": [
        "#### Checking for null values"
      ],
      "metadata": {
        "id": "sY_Gvk1-4ZNZ"
      }
    },
    {
      "cell_type": "code",
      "source": [
        "users.isnull().sum()"
      ],
      "metadata": {
        "colab": {
          "base_uri": "https://localhost:8080/"
        },
        "id": "j1JQ7zDf32OC",
        "outputId": "3f7715de-976a-4b50-aa37-44c4f0d5587a"
      },
      "execution_count": 5,
      "outputs": [
        {
          "output_type": "execute_result",
          "data": {
            "text/plain": [
              "_id              0\n",
              "active           0\n",
              "createdDate      0\n",
              "lastLogin       62\n",
              "role             0\n",
              "signUpSource    48\n",
              "state           56\n",
              "dtype: int64"
            ]
          },
          "metadata": {},
          "execution_count": 5
        }
      ]
    },
    {
      "cell_type": "markdown",
      "source": [
        "#### Checking the percentage of null values"
      ],
      "metadata": {
        "id": "2S01ZTbS4iPQ"
      }
    },
    {
      "cell_type": "code",
      "source": [
        "(users.isnull().sum()/users.shape[0]) * 100"
      ],
      "metadata": {
        "colab": {
          "base_uri": "https://localhost:8080/"
        },
        "id": "Bfr0CV9g_OmQ",
        "outputId": "f9c29b11-32f4-4b53-cf3c-a6d366ab3020"
      },
      "execution_count": 6,
      "outputs": [
        {
          "output_type": "execute_result",
          "data": {
            "text/plain": [
              "_id              0.000000\n",
              "active           0.000000\n",
              "createdDate      0.000000\n",
              "lastLogin       12.525253\n",
              "role             0.000000\n",
              "signUpSource     9.696970\n",
              "state           11.313131\n",
              "dtype: float64"
            ]
          },
          "metadata": {},
          "execution_count": 6
        }
      ]
    },
    {
      "cell_type": "markdown",
      "source": [
        "#### Checking for duplicated values"
      ],
      "metadata": {
        "id": "7olhtDPn_vVM"
      }
    },
    {
      "cell_type": "markdown",
      "source": [
        "##### To inspect the duplicate rows in the dataset, we have to first change the data type of few feature such as `_id`, `createdDate`, and `lastLogin`. The data types of these feature is dictionary, annd it should be changed into string format."
      ],
      "metadata": {
        "id": "P2BCIyrXpVgM"
      }
    },
    {
      "cell_type": "code",
      "source": [
        "dict_columns = ['_id', 'createdDate', 'lastLogin']  # Specify the columns that contain dictionaries\n",
        "for column in dict_columns:\n",
        "    users[column] = users[column].apply(json.dumps)"
      ],
      "metadata": {
        "id": "uXVaiiFopUbK"
      },
      "execution_count": 7,
      "outputs": []
    },
    {
      "cell_type": "code",
      "source": [
        "users.duplicated()"
      ],
      "metadata": {
        "colab": {
          "base_uri": "https://localhost:8080/"
        },
        "id": "XL-t3pVcpUYj",
        "outputId": "ad1d84fc-a7de-46b0-a338-55ec8538f911"
      },
      "execution_count": 8,
      "outputs": [
        {
          "output_type": "execute_result",
          "data": {
            "text/plain": [
              "0      False\n",
              "1       True\n",
              "2       True\n",
              "3      False\n",
              "4       True\n",
              "       ...  \n",
              "490     True\n",
              "491     True\n",
              "492     True\n",
              "493     True\n",
              "494     True\n",
              "Length: 495, dtype: bool"
            ]
          },
          "metadata": {},
          "execution_count": 8
        }
      ]
    },
    {
      "cell_type": "code",
      "source": [
        "duplicates = users.duplicated()\n",
        "duplicated_rows = users[duplicates]\n",
        "duplicated_rows"
      ],
      "metadata": {
        "colab": {
          "base_uri": "https://localhost:8080/",
          "height": 423
        },
        "id": "rp0Wa1q6pUVr",
        "outputId": "e2a7f813-1f56-4a25-f0bf-1dce98f73b8d"
      },
      "execution_count": 9,
      "outputs": [
        {
          "output_type": "execute_result",
          "data": {
            "text/plain": [
              "                                      _id  active               createdDate  \\\n",
              "1    {\"$oid\": \"5ff1e194b6a9d73a3a9f1052\"}    True  {\"$date\": 1609687444800}   \n",
              "2    {\"$oid\": \"5ff1e194b6a9d73a3a9f1052\"}    True  {\"$date\": 1609687444800}   \n",
              "4    {\"$oid\": \"5ff1e194b6a9d73a3a9f1052\"}    True  {\"$date\": 1609687444800}   \n",
              "5    {\"$oid\": \"5ff1e194b6a9d73a3a9f1052\"}    True  {\"$date\": 1609687444800}   \n",
              "8    {\"$oid\": \"5ff1e194b6a9d73a3a9f1052\"}    True  {\"$date\": 1609687444800}   \n",
              "..                                    ...     ...                       ...   \n",
              "490  {\"$oid\": \"54943462e4b07e684157a532\"}    True  {\"$date\": 1418998882381}   \n",
              "491  {\"$oid\": \"54943462e4b07e684157a532\"}    True  {\"$date\": 1418998882381}   \n",
              "492  {\"$oid\": \"54943462e4b07e684157a532\"}    True  {\"$date\": 1418998882381}   \n",
              "493  {\"$oid\": \"54943462e4b07e684157a532\"}    True  {\"$date\": 1418998882381}   \n",
              "494  {\"$oid\": \"54943462e4b07e684157a532\"}    True  {\"$date\": 1418998882381}   \n",
              "\n",
              "                    lastLogin         role signUpSource state  \n",
              "1    {\"$date\": 1609687537858}     consumer        Email    WI  \n",
              "2    {\"$date\": 1609687537858}     consumer        Email    WI  \n",
              "4    {\"$date\": 1609687537858}     consumer        Email    WI  \n",
              "5    {\"$date\": 1609687537858}     consumer        Email    WI  \n",
              "8    {\"$date\": 1609687537858}     consumer        Email    WI  \n",
              "..                        ...          ...          ...   ...  \n",
              "490  {\"$date\": 1614963143204}  fetch-staff          NaN   NaN  \n",
              "491  {\"$date\": 1614963143204}  fetch-staff          NaN   NaN  \n",
              "492  {\"$date\": 1614963143204}  fetch-staff          NaN   NaN  \n",
              "493  {\"$date\": 1614963143204}  fetch-staff          NaN   NaN  \n",
              "494  {\"$date\": 1614963143204}  fetch-staff          NaN   NaN  \n",
              "\n",
              "[283 rows x 7 columns]"
            ],
            "text/html": [
              "\n",
              "  <div id=\"df-7211170a-0753-40ee-a5eb-dc393f5f5b82\">\n",
              "    <div class=\"colab-df-container\">\n",
              "      <div>\n",
              "<style scoped>\n",
              "    .dataframe tbody tr th:only-of-type {\n",
              "        vertical-align: middle;\n",
              "    }\n",
              "\n",
              "    .dataframe tbody tr th {\n",
              "        vertical-align: top;\n",
              "    }\n",
              "\n",
              "    .dataframe thead th {\n",
              "        text-align: right;\n",
              "    }\n",
              "</style>\n",
              "<table border=\"1\" class=\"dataframe\">\n",
              "  <thead>\n",
              "    <tr style=\"text-align: right;\">\n",
              "      <th></th>\n",
              "      <th>_id</th>\n",
              "      <th>active</th>\n",
              "      <th>createdDate</th>\n",
              "      <th>lastLogin</th>\n",
              "      <th>role</th>\n",
              "      <th>signUpSource</th>\n",
              "      <th>state</th>\n",
              "    </tr>\n",
              "  </thead>\n",
              "  <tbody>\n",
              "    <tr>\n",
              "      <th>1</th>\n",
              "      <td>{\"$oid\": \"5ff1e194b6a9d73a3a9f1052\"}</td>\n",
              "      <td>True</td>\n",
              "      <td>{\"$date\": 1609687444800}</td>\n",
              "      <td>{\"$date\": 1609687537858}</td>\n",
              "      <td>consumer</td>\n",
              "      <td>Email</td>\n",
              "      <td>WI</td>\n",
              "    </tr>\n",
              "    <tr>\n",
              "      <th>2</th>\n",
              "      <td>{\"$oid\": \"5ff1e194b6a9d73a3a9f1052\"}</td>\n",
              "      <td>True</td>\n",
              "      <td>{\"$date\": 1609687444800}</td>\n",
              "      <td>{\"$date\": 1609687537858}</td>\n",
              "      <td>consumer</td>\n",
              "      <td>Email</td>\n",
              "      <td>WI</td>\n",
              "    </tr>\n",
              "    <tr>\n",
              "      <th>4</th>\n",
              "      <td>{\"$oid\": \"5ff1e194b6a9d73a3a9f1052\"}</td>\n",
              "      <td>True</td>\n",
              "      <td>{\"$date\": 1609687444800}</td>\n",
              "      <td>{\"$date\": 1609687537858}</td>\n",
              "      <td>consumer</td>\n",
              "      <td>Email</td>\n",
              "      <td>WI</td>\n",
              "    </tr>\n",
              "    <tr>\n",
              "      <th>5</th>\n",
              "      <td>{\"$oid\": \"5ff1e194b6a9d73a3a9f1052\"}</td>\n",
              "      <td>True</td>\n",
              "      <td>{\"$date\": 1609687444800}</td>\n",
              "      <td>{\"$date\": 1609687537858}</td>\n",
              "      <td>consumer</td>\n",
              "      <td>Email</td>\n",
              "      <td>WI</td>\n",
              "    </tr>\n",
              "    <tr>\n",
              "      <th>8</th>\n",
              "      <td>{\"$oid\": \"5ff1e194b6a9d73a3a9f1052\"}</td>\n",
              "      <td>True</td>\n",
              "      <td>{\"$date\": 1609687444800}</td>\n",
              "      <td>{\"$date\": 1609687537858}</td>\n",
              "      <td>consumer</td>\n",
              "      <td>Email</td>\n",
              "      <td>WI</td>\n",
              "    </tr>\n",
              "    <tr>\n",
              "      <th>...</th>\n",
              "      <td>...</td>\n",
              "      <td>...</td>\n",
              "      <td>...</td>\n",
              "      <td>...</td>\n",
              "      <td>...</td>\n",
              "      <td>...</td>\n",
              "      <td>...</td>\n",
              "    </tr>\n",
              "    <tr>\n",
              "      <th>490</th>\n",
              "      <td>{\"$oid\": \"54943462e4b07e684157a532\"}</td>\n",
              "      <td>True</td>\n",
              "      <td>{\"$date\": 1418998882381}</td>\n",
              "      <td>{\"$date\": 1614963143204}</td>\n",
              "      <td>fetch-staff</td>\n",
              "      <td>NaN</td>\n",
              "      <td>NaN</td>\n",
              "    </tr>\n",
              "    <tr>\n",
              "      <th>491</th>\n",
              "      <td>{\"$oid\": \"54943462e4b07e684157a532\"}</td>\n",
              "      <td>True</td>\n",
              "      <td>{\"$date\": 1418998882381}</td>\n",
              "      <td>{\"$date\": 1614963143204}</td>\n",
              "      <td>fetch-staff</td>\n",
              "      <td>NaN</td>\n",
              "      <td>NaN</td>\n",
              "    </tr>\n",
              "    <tr>\n",
              "      <th>492</th>\n",
              "      <td>{\"$oid\": \"54943462e4b07e684157a532\"}</td>\n",
              "      <td>True</td>\n",
              "      <td>{\"$date\": 1418998882381}</td>\n",
              "      <td>{\"$date\": 1614963143204}</td>\n",
              "      <td>fetch-staff</td>\n",
              "      <td>NaN</td>\n",
              "      <td>NaN</td>\n",
              "    </tr>\n",
              "    <tr>\n",
              "      <th>493</th>\n",
              "      <td>{\"$oid\": \"54943462e4b07e684157a532\"}</td>\n",
              "      <td>True</td>\n",
              "      <td>{\"$date\": 1418998882381}</td>\n",
              "      <td>{\"$date\": 1614963143204}</td>\n",
              "      <td>fetch-staff</td>\n",
              "      <td>NaN</td>\n",
              "      <td>NaN</td>\n",
              "    </tr>\n",
              "    <tr>\n",
              "      <th>494</th>\n",
              "      <td>{\"$oid\": \"54943462e4b07e684157a532\"}</td>\n",
              "      <td>True</td>\n",
              "      <td>{\"$date\": 1418998882381}</td>\n",
              "      <td>{\"$date\": 1614963143204}</td>\n",
              "      <td>fetch-staff</td>\n",
              "      <td>NaN</td>\n",
              "      <td>NaN</td>\n",
              "    </tr>\n",
              "  </tbody>\n",
              "</table>\n",
              "<p>283 rows × 7 columns</p>\n",
              "</div>\n",
              "      <button class=\"colab-df-convert\" onclick=\"convertToInteractive('df-7211170a-0753-40ee-a5eb-dc393f5f5b82')\"\n",
              "              title=\"Convert this dataframe to an interactive table.\"\n",
              "              style=\"display:none;\">\n",
              "        \n",
              "  <svg xmlns=\"http://www.w3.org/2000/svg\" height=\"24px\"viewBox=\"0 0 24 24\"\n",
              "       width=\"24px\">\n",
              "    <path d=\"M0 0h24v24H0V0z\" fill=\"none\"/>\n",
              "    <path d=\"M18.56 5.44l.94 2.06.94-2.06 2.06-.94-2.06-.94-.94-2.06-.94 2.06-2.06.94zm-11 1L8.5 8.5l.94-2.06 2.06-.94-2.06-.94L8.5 2.5l-.94 2.06-2.06.94zm10 10l.94 2.06.94-2.06 2.06-.94-2.06-.94-.94-2.06-.94 2.06-2.06.94z\"/><path d=\"M17.41 7.96l-1.37-1.37c-.4-.4-.92-.59-1.43-.59-.52 0-1.04.2-1.43.59L10.3 9.45l-7.72 7.72c-.78.78-.78 2.05 0 2.83L4 21.41c.39.39.9.59 1.41.59.51 0 1.02-.2 1.41-.59l7.78-7.78 2.81-2.81c.8-.78.8-2.07 0-2.86zM5.41 20L4 18.59l7.72-7.72 1.47 1.35L5.41 20z\"/>\n",
              "  </svg>\n",
              "      </button>\n",
              "      \n",
              "  <style>\n",
              "    .colab-df-container {\n",
              "      display:flex;\n",
              "      flex-wrap:wrap;\n",
              "      gap: 12px;\n",
              "    }\n",
              "\n",
              "    .colab-df-convert {\n",
              "      background-color: #E8F0FE;\n",
              "      border: none;\n",
              "      border-radius: 50%;\n",
              "      cursor: pointer;\n",
              "      display: none;\n",
              "      fill: #1967D2;\n",
              "      height: 32px;\n",
              "      padding: 0 0 0 0;\n",
              "      width: 32px;\n",
              "    }\n",
              "\n",
              "    .colab-df-convert:hover {\n",
              "      background-color: #E2EBFA;\n",
              "      box-shadow: 0px 1px 2px rgba(60, 64, 67, 0.3), 0px 1px 3px 1px rgba(60, 64, 67, 0.15);\n",
              "      fill: #174EA6;\n",
              "    }\n",
              "\n",
              "    [theme=dark] .colab-df-convert {\n",
              "      background-color: #3B4455;\n",
              "      fill: #D2E3FC;\n",
              "    }\n",
              "\n",
              "    [theme=dark] .colab-df-convert:hover {\n",
              "      background-color: #434B5C;\n",
              "      box-shadow: 0px 1px 3px 1px rgba(0, 0, 0, 0.15);\n",
              "      filter: drop-shadow(0px 1px 2px rgba(0, 0, 0, 0.3));\n",
              "      fill: #FFFFFF;\n",
              "    }\n",
              "  </style>\n",
              "\n",
              "      <script>\n",
              "        const buttonEl =\n",
              "          document.querySelector('#df-7211170a-0753-40ee-a5eb-dc393f5f5b82 button.colab-df-convert');\n",
              "        buttonEl.style.display =\n",
              "          google.colab.kernel.accessAllowed ? 'block' : 'none';\n",
              "\n",
              "        async function convertToInteractive(key) {\n",
              "          const element = document.querySelector('#df-7211170a-0753-40ee-a5eb-dc393f5f5b82');\n",
              "          const dataTable =\n",
              "            await google.colab.kernel.invokeFunction('convertToInteractive',\n",
              "                                                     [key], {});\n",
              "          if (!dataTable) return;\n",
              "\n",
              "          const docLinkHtml = 'Like what you see? Visit the ' +\n",
              "            '<a target=\"_blank\" href=https://colab.research.google.com/notebooks/data_table.ipynb>data table notebook</a>'\n",
              "            + ' to learn more about interactive tables.';\n",
              "          element.innerHTML = '';\n",
              "          dataTable['output_type'] = 'display_data';\n",
              "          await google.colab.output.renderOutput(dataTable, element);\n",
              "          const docLink = document.createElement('div');\n",
              "          docLink.innerHTML = docLinkHtml;\n",
              "          element.appendChild(docLink);\n",
              "        }\n",
              "      </script>\n",
              "    </div>\n",
              "  </div>\n",
              "  "
            ]
          },
          "metadata": {},
          "execution_count": 9
        }
      ]
    },
    {
      "cell_type": "markdown",
      "source": [
        "##### We can observe that there are 283 rows of duplicated data in the users dataset."
      ],
      "metadata": {
        "id": "p5HhfmfhrYSM"
      }
    },
    {
      "cell_type": "markdown",
      "source": [
        "## Data quality issues found in the dataset are:\n",
        "\n",
        "1. There is a huge amount of data that is duplicated in the users dataset. There are 283 duplicated rows, which means that there are only 212 original values.\n",
        "\n",
        "2. There are also some amount of missing values in the users dataset. There are 62 missing values in `lastLogin` feature, followed by 56 and 48 missing values in the state and `signUpSource` features respectively.\n",
        "\n"
      ],
      "metadata": {
        "id": "499mz9Birfj3"
      }
    },
    {
      "cell_type": "code",
      "source": [],
      "metadata": {
        "id": "V2Lm7SR6pUP-"
      },
      "execution_count": 9,
      "outputs": []
    },
    {
      "cell_type": "code",
      "source": [],
      "metadata": {
        "id": "6fdL8MzemO0q"
      },
      "execution_count": 9,
      "outputs": []
    }
  ]
}
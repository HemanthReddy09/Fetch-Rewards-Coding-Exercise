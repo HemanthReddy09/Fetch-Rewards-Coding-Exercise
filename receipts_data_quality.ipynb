{
  "nbformat": 4,
  "nbformat_minor": 0,
  "metadata": {
    "colab": {
      "provenance": []
    },
    "kernelspec": {
      "name": "python3",
      "display_name": "Python 3"
    },
    "language_info": {
      "name": "python"
    }
  },
  "cells": [
    {
      "cell_type": "markdown",
      "source": [
        "#### Importing the required libraries"
      ],
      "metadata": {
        "id": "sWJvnqf90hEG"
      }
    },
    {
      "cell_type": "code",
      "execution_count": 1,
      "metadata": {
        "id": "dFY2VDcW0Znm"
      },
      "outputs": [],
      "source": [
        "import gzip\n",
        "import json\n",
        "import pandas as pd\n",
        "import seaborn as sns\n",
        "import matplotlib.pyplot as plt"
      ]
    },
    {
      "cell_type": "markdown",
      "source": [
        "#### Opening the json.gz files, and reading the dataset"
      ],
      "metadata": {
        "id": "CinQ-zur0knG"
      }
    },
    {
      "cell_type": "code",
      "source": [
        "with gzip.open('/content/receipts.json.gz', 'rb') as f:\n",
        "    file_contents = f.read()\n",
        "\n",
        "decoded_contents = file_contents.decode('utf-8')\n",
        "data = []\n",
        "decoder = json.JSONDecoder()\n",
        "\n",
        "# Parse each JSON object in the file\n",
        "while decoded_contents:\n",
        "    obj, idx = decoder.raw_decode(decoded_contents)\n",
        "    data.append(obj)\n",
        "    decoded_contents = decoded_contents[idx:].lstrip()\n",
        "\n",
        "# Create a DataFrame from the parsed JSON objects\n",
        "receipts = pd.DataFrame(data)"
      ],
      "metadata": {
        "id": "nZcPv8gl0ep4"
      },
      "execution_count": 2,
      "outputs": []
    },
    {
      "cell_type": "code",
      "source": [
        "receipts"
      ],
      "metadata": {
        "colab": {
          "base_uri": "https://localhost:8080/",
          "height": 661
        },
        "id": "Vli0fo9P0sXA",
        "outputId": "b713665a-ec02-44d8-a7f1-df41cd08bc98"
      },
      "execution_count": 3,
      "outputs": [
        {
          "output_type": "execute_result",
          "data": {
            "text/plain": [
              "                                       _id  bonusPointsEarned  \\\n",
              "0     {'$oid': '5ff1e1eb0a720f0523000575'}              500.0   \n",
              "1     {'$oid': '5ff1e1bb0a720f052300056b'}              150.0   \n",
              "2     {'$oid': '5ff1e1f10a720f052300057a'}                5.0   \n",
              "3     {'$oid': '5ff1e1ee0a7214ada100056f'}                5.0   \n",
              "4     {'$oid': '5ff1e1d20a7214ada1000561'}                5.0   \n",
              "...                                    ...                ...   \n",
              "1114  {'$oid': '603cc0630a720fde100003e6'}               25.0   \n",
              "1115  {'$oid': '603d0b710a720fde1000042a'}                NaN   \n",
              "1116  {'$oid': '603cf5290a720fde10000413'}                NaN   \n",
              "1117  {'$oid': '603ce7100a7217c72c000405'}               25.0   \n",
              "1118  {'$oid': '603c4fea0a7217c72c000389'}                NaN   \n",
              "\n",
              "                                bonusPointsEarnedReason  \\\n",
              "0     Receipt number 2 completed, bonus point schedu...   \n",
              "1     Receipt number 5 completed, bonus point schedu...   \n",
              "2                            All-receipts receipt bonus   \n",
              "3                            All-receipts receipt bonus   \n",
              "4                            All-receipts receipt bonus   \n",
              "...                                                 ...   \n",
              "1114                        COMPLETE_NONPARTNER_RECEIPT   \n",
              "1115                                                NaN   \n",
              "1116                                                NaN   \n",
              "1117                        COMPLETE_NONPARTNER_RECEIPT   \n",
              "1118                                                NaN   \n",
              "\n",
              "                    createDate               dateScanned  \\\n",
              "0     {'$date': 1609687531000}  {'$date': 1609687531000}   \n",
              "1     {'$date': 1609687483000}  {'$date': 1609687483000}   \n",
              "2     {'$date': 1609687537000}  {'$date': 1609687537000}   \n",
              "3     {'$date': 1609687534000}  {'$date': 1609687534000}   \n",
              "4     {'$date': 1609687506000}  {'$date': 1609687506000}   \n",
              "...                        ...                       ...   \n",
              "1114  {'$date': 1614594147000}  {'$date': 1614594147000}   \n",
              "1115  {'$date': 1614613361873}  {'$date': 1614613361873}   \n",
              "1116  {'$date': 1614607657664}  {'$date': 1614607657664}   \n",
              "1117  {'$date': 1614604048000}  {'$date': 1614604048000}   \n",
              "1118  {'$date': 1614565354962}  {'$date': 1614565354962}   \n",
              "\n",
              "                  finishedDate                modifyDate  \\\n",
              "0     {'$date': 1609687531000}  {'$date': 1609687536000}   \n",
              "1     {'$date': 1609687483000}  {'$date': 1609687488000}   \n",
              "2                          NaN  {'$date': 1609687542000}   \n",
              "3     {'$date': 1609687534000}  {'$date': 1609687539000}   \n",
              "4     {'$date': 1609687511000}  {'$date': 1609687511000}   \n",
              "...                        ...                       ...   \n",
              "1114                       NaN  {'$date': 1614594148000}   \n",
              "1115                       NaN  {'$date': 1614613361873}   \n",
              "1116                       NaN  {'$date': 1614607657664}   \n",
              "1117                       NaN  {'$date': 1614604049000}   \n",
              "1118                       NaN  {'$date': 1614565354962}   \n",
              "\n",
              "             pointsAwardedDate pointsEarned              purchaseDate  \\\n",
              "0     {'$date': 1609687531000}        500.0  {'$date': 1609632000000}   \n",
              "1     {'$date': 1609687483000}        150.0  {'$date': 1609601083000}   \n",
              "2                          NaN            5  {'$date': 1609632000000}   \n",
              "3     {'$date': 1609687534000}          5.0  {'$date': 1609632000000}   \n",
              "4     {'$date': 1609687506000}          5.0  {'$date': 1609601106000}   \n",
              "...                        ...          ...                       ...   \n",
              "1114                       NaN         25.0  {'$date': 1597622400000}   \n",
              "1115                       NaN          NaN                       NaN   \n",
              "1116                       NaN          NaN                       NaN   \n",
              "1117                       NaN         25.0  {'$date': 1597622400000}   \n",
              "1118                       NaN          NaN                       NaN   \n",
              "\n",
              "      purchasedItemCount                             rewardsReceiptItemList  \\\n",
              "0                    5.0  [{'barcode': '4011', 'description': 'ITEM NOT ...   \n",
              "1                    2.0  [{'barcode': '4011', 'description': 'ITEM NOT ...   \n",
              "2                    1.0  [{'needsFetchReview': False, 'partnerItemId': ...   \n",
              "3                    4.0  [{'barcode': '4011', 'description': 'ITEM NOT ...   \n",
              "4                    2.0  [{'barcode': '4011', 'description': 'ITEM NOT ...   \n",
              "...                  ...                                                ...   \n",
              "1114                 2.0  [{'barcode': 'B076FJ92M4', 'description': 'mue...   \n",
              "1115                 NaN                                                NaN   \n",
              "1116                 NaN                                                NaN   \n",
              "1117                 2.0  [{'barcode': 'B076FJ92M4', 'description': 'mue...   \n",
              "1118                 NaN                                                NaN   \n",
              "\n",
              "     rewardsReceiptStatus totalSpent                    userId  \n",
              "0                FINISHED      26.00  5ff1e1eacfcf6c399c274ae6  \n",
              "1                FINISHED      11.00  5ff1e194b6a9d73a3a9f1052  \n",
              "2                REJECTED      10.00  5ff1e1f1cfcf6c399c274b0b  \n",
              "3                FINISHED      28.00  5ff1e1eacfcf6c399c274ae6  \n",
              "4                FINISHED       1.00  5ff1e194b6a9d73a3a9f1052  \n",
              "...                   ...        ...                       ...  \n",
              "1114             REJECTED      34.96  5fc961c3b8cfca11a077dd33  \n",
              "1115            SUBMITTED        NaN  5fc961c3b8cfca11a077dd33  \n",
              "1116            SUBMITTED        NaN  5fc961c3b8cfca11a077dd33  \n",
              "1117             REJECTED      34.96  5fc961c3b8cfca11a077dd33  \n",
              "1118            SUBMITTED        NaN  5fc961c3b8cfca11a077dd33  \n",
              "\n",
              "[1119 rows x 15 columns]"
            ],
            "text/html": [
              "\n",
              "  <div id=\"df-6bca2c26-2815-4f40-98b8-1bfd791e17f3\">\n",
              "    <div class=\"colab-df-container\">\n",
              "      <div>\n",
              "<style scoped>\n",
              "    .dataframe tbody tr th:only-of-type {\n",
              "        vertical-align: middle;\n",
              "    }\n",
              "\n",
              "    .dataframe tbody tr th {\n",
              "        vertical-align: top;\n",
              "    }\n",
              "\n",
              "    .dataframe thead th {\n",
              "        text-align: right;\n",
              "    }\n",
              "</style>\n",
              "<table border=\"1\" class=\"dataframe\">\n",
              "  <thead>\n",
              "    <tr style=\"text-align: right;\">\n",
              "      <th></th>\n",
              "      <th>_id</th>\n",
              "      <th>bonusPointsEarned</th>\n",
              "      <th>bonusPointsEarnedReason</th>\n",
              "      <th>createDate</th>\n",
              "      <th>dateScanned</th>\n",
              "      <th>finishedDate</th>\n",
              "      <th>modifyDate</th>\n",
              "      <th>pointsAwardedDate</th>\n",
              "      <th>pointsEarned</th>\n",
              "      <th>purchaseDate</th>\n",
              "      <th>purchasedItemCount</th>\n",
              "      <th>rewardsReceiptItemList</th>\n",
              "      <th>rewardsReceiptStatus</th>\n",
              "      <th>totalSpent</th>\n",
              "      <th>userId</th>\n",
              "    </tr>\n",
              "  </thead>\n",
              "  <tbody>\n",
              "    <tr>\n",
              "      <th>0</th>\n",
              "      <td>{'$oid': '5ff1e1eb0a720f0523000575'}</td>\n",
              "      <td>500.0</td>\n",
              "      <td>Receipt number 2 completed, bonus point schedu...</td>\n",
              "      <td>{'$date': 1609687531000}</td>\n",
              "      <td>{'$date': 1609687531000}</td>\n",
              "      <td>{'$date': 1609687531000}</td>\n",
              "      <td>{'$date': 1609687536000}</td>\n",
              "      <td>{'$date': 1609687531000}</td>\n",
              "      <td>500.0</td>\n",
              "      <td>{'$date': 1609632000000}</td>\n",
              "      <td>5.0</td>\n",
              "      <td>[{'barcode': '4011', 'description': 'ITEM NOT ...</td>\n",
              "      <td>FINISHED</td>\n",
              "      <td>26.00</td>\n",
              "      <td>5ff1e1eacfcf6c399c274ae6</td>\n",
              "    </tr>\n",
              "    <tr>\n",
              "      <th>1</th>\n",
              "      <td>{'$oid': '5ff1e1bb0a720f052300056b'}</td>\n",
              "      <td>150.0</td>\n",
              "      <td>Receipt number 5 completed, bonus point schedu...</td>\n",
              "      <td>{'$date': 1609687483000}</td>\n",
              "      <td>{'$date': 1609687483000}</td>\n",
              "      <td>{'$date': 1609687483000}</td>\n",
              "      <td>{'$date': 1609687488000}</td>\n",
              "      <td>{'$date': 1609687483000}</td>\n",
              "      <td>150.0</td>\n",
              "      <td>{'$date': 1609601083000}</td>\n",
              "      <td>2.0</td>\n",
              "      <td>[{'barcode': '4011', 'description': 'ITEM NOT ...</td>\n",
              "      <td>FINISHED</td>\n",
              "      <td>11.00</td>\n",
              "      <td>5ff1e194b6a9d73a3a9f1052</td>\n",
              "    </tr>\n",
              "    <tr>\n",
              "      <th>2</th>\n",
              "      <td>{'$oid': '5ff1e1f10a720f052300057a'}</td>\n",
              "      <td>5.0</td>\n",
              "      <td>All-receipts receipt bonus</td>\n",
              "      <td>{'$date': 1609687537000}</td>\n",
              "      <td>{'$date': 1609687537000}</td>\n",
              "      <td>NaN</td>\n",
              "      <td>{'$date': 1609687542000}</td>\n",
              "      <td>NaN</td>\n",
              "      <td>5</td>\n",
              "      <td>{'$date': 1609632000000}</td>\n",
              "      <td>1.0</td>\n",
              "      <td>[{'needsFetchReview': False, 'partnerItemId': ...</td>\n",
              "      <td>REJECTED</td>\n",
              "      <td>10.00</td>\n",
              "      <td>5ff1e1f1cfcf6c399c274b0b</td>\n",
              "    </tr>\n",
              "    <tr>\n",
              "      <th>3</th>\n",
              "      <td>{'$oid': '5ff1e1ee0a7214ada100056f'}</td>\n",
              "      <td>5.0</td>\n",
              "      <td>All-receipts receipt bonus</td>\n",
              "      <td>{'$date': 1609687534000}</td>\n",
              "      <td>{'$date': 1609687534000}</td>\n",
              "      <td>{'$date': 1609687534000}</td>\n",
              "      <td>{'$date': 1609687539000}</td>\n",
              "      <td>{'$date': 1609687534000}</td>\n",
              "      <td>5.0</td>\n",
              "      <td>{'$date': 1609632000000}</td>\n",
              "      <td>4.0</td>\n",
              "      <td>[{'barcode': '4011', 'description': 'ITEM NOT ...</td>\n",
              "      <td>FINISHED</td>\n",
              "      <td>28.00</td>\n",
              "      <td>5ff1e1eacfcf6c399c274ae6</td>\n",
              "    </tr>\n",
              "    <tr>\n",
              "      <th>4</th>\n",
              "      <td>{'$oid': '5ff1e1d20a7214ada1000561'}</td>\n",
              "      <td>5.0</td>\n",
              "      <td>All-receipts receipt bonus</td>\n",
              "      <td>{'$date': 1609687506000}</td>\n",
              "      <td>{'$date': 1609687506000}</td>\n",
              "      <td>{'$date': 1609687511000}</td>\n",
              "      <td>{'$date': 1609687511000}</td>\n",
              "      <td>{'$date': 1609687506000}</td>\n",
              "      <td>5.0</td>\n",
              "      <td>{'$date': 1609601106000}</td>\n",
              "      <td>2.0</td>\n",
              "      <td>[{'barcode': '4011', 'description': 'ITEM NOT ...</td>\n",
              "      <td>FINISHED</td>\n",
              "      <td>1.00</td>\n",
              "      <td>5ff1e194b6a9d73a3a9f1052</td>\n",
              "    </tr>\n",
              "    <tr>\n",
              "      <th>...</th>\n",
              "      <td>...</td>\n",
              "      <td>...</td>\n",
              "      <td>...</td>\n",
              "      <td>...</td>\n",
              "      <td>...</td>\n",
              "      <td>...</td>\n",
              "      <td>...</td>\n",
              "      <td>...</td>\n",
              "      <td>...</td>\n",
              "      <td>...</td>\n",
              "      <td>...</td>\n",
              "      <td>...</td>\n",
              "      <td>...</td>\n",
              "      <td>...</td>\n",
              "      <td>...</td>\n",
              "    </tr>\n",
              "    <tr>\n",
              "      <th>1114</th>\n",
              "      <td>{'$oid': '603cc0630a720fde100003e6'}</td>\n",
              "      <td>25.0</td>\n",
              "      <td>COMPLETE_NONPARTNER_RECEIPT</td>\n",
              "      <td>{'$date': 1614594147000}</td>\n",
              "      <td>{'$date': 1614594147000}</td>\n",
              "      <td>NaN</td>\n",
              "      <td>{'$date': 1614594148000}</td>\n",
              "      <td>NaN</td>\n",
              "      <td>25.0</td>\n",
              "      <td>{'$date': 1597622400000}</td>\n",
              "      <td>2.0</td>\n",
              "      <td>[{'barcode': 'B076FJ92M4', 'description': 'mue...</td>\n",
              "      <td>REJECTED</td>\n",
              "      <td>34.96</td>\n",
              "      <td>5fc961c3b8cfca11a077dd33</td>\n",
              "    </tr>\n",
              "    <tr>\n",
              "      <th>1115</th>\n",
              "      <td>{'$oid': '603d0b710a720fde1000042a'}</td>\n",
              "      <td>NaN</td>\n",
              "      <td>NaN</td>\n",
              "      <td>{'$date': 1614613361873}</td>\n",
              "      <td>{'$date': 1614613361873}</td>\n",
              "      <td>NaN</td>\n",
              "      <td>{'$date': 1614613361873}</td>\n",
              "      <td>NaN</td>\n",
              "      <td>NaN</td>\n",
              "      <td>NaN</td>\n",
              "      <td>NaN</td>\n",
              "      <td>NaN</td>\n",
              "      <td>SUBMITTED</td>\n",
              "      <td>NaN</td>\n",
              "      <td>5fc961c3b8cfca11a077dd33</td>\n",
              "    </tr>\n",
              "    <tr>\n",
              "      <th>1116</th>\n",
              "      <td>{'$oid': '603cf5290a720fde10000413'}</td>\n",
              "      <td>NaN</td>\n",
              "      <td>NaN</td>\n",
              "      <td>{'$date': 1614607657664}</td>\n",
              "      <td>{'$date': 1614607657664}</td>\n",
              "      <td>NaN</td>\n",
              "      <td>{'$date': 1614607657664}</td>\n",
              "      <td>NaN</td>\n",
              "      <td>NaN</td>\n",
              "      <td>NaN</td>\n",
              "      <td>NaN</td>\n",
              "      <td>NaN</td>\n",
              "      <td>SUBMITTED</td>\n",
              "      <td>NaN</td>\n",
              "      <td>5fc961c3b8cfca11a077dd33</td>\n",
              "    </tr>\n",
              "    <tr>\n",
              "      <th>1117</th>\n",
              "      <td>{'$oid': '603ce7100a7217c72c000405'}</td>\n",
              "      <td>25.0</td>\n",
              "      <td>COMPLETE_NONPARTNER_RECEIPT</td>\n",
              "      <td>{'$date': 1614604048000}</td>\n",
              "      <td>{'$date': 1614604048000}</td>\n",
              "      <td>NaN</td>\n",
              "      <td>{'$date': 1614604049000}</td>\n",
              "      <td>NaN</td>\n",
              "      <td>25.0</td>\n",
              "      <td>{'$date': 1597622400000}</td>\n",
              "      <td>2.0</td>\n",
              "      <td>[{'barcode': 'B076FJ92M4', 'description': 'mue...</td>\n",
              "      <td>REJECTED</td>\n",
              "      <td>34.96</td>\n",
              "      <td>5fc961c3b8cfca11a077dd33</td>\n",
              "    </tr>\n",
              "    <tr>\n",
              "      <th>1118</th>\n",
              "      <td>{'$oid': '603c4fea0a7217c72c000389'}</td>\n",
              "      <td>NaN</td>\n",
              "      <td>NaN</td>\n",
              "      <td>{'$date': 1614565354962}</td>\n",
              "      <td>{'$date': 1614565354962}</td>\n",
              "      <td>NaN</td>\n",
              "      <td>{'$date': 1614565354962}</td>\n",
              "      <td>NaN</td>\n",
              "      <td>NaN</td>\n",
              "      <td>NaN</td>\n",
              "      <td>NaN</td>\n",
              "      <td>NaN</td>\n",
              "      <td>SUBMITTED</td>\n",
              "      <td>NaN</td>\n",
              "      <td>5fc961c3b8cfca11a077dd33</td>\n",
              "    </tr>\n",
              "  </tbody>\n",
              "</table>\n",
              "<p>1119 rows × 15 columns</p>\n",
              "</div>\n",
              "      <button class=\"colab-df-convert\" onclick=\"convertToInteractive('df-6bca2c26-2815-4f40-98b8-1bfd791e17f3')\"\n",
              "              title=\"Convert this dataframe to an interactive table.\"\n",
              "              style=\"display:none;\">\n",
              "        \n",
              "  <svg xmlns=\"http://www.w3.org/2000/svg\" height=\"24px\"viewBox=\"0 0 24 24\"\n",
              "       width=\"24px\">\n",
              "    <path d=\"M0 0h24v24H0V0z\" fill=\"none\"/>\n",
              "    <path d=\"M18.56 5.44l.94 2.06.94-2.06 2.06-.94-2.06-.94-.94-2.06-.94 2.06-2.06.94zm-11 1L8.5 8.5l.94-2.06 2.06-.94-2.06-.94L8.5 2.5l-.94 2.06-2.06.94zm10 10l.94 2.06.94-2.06 2.06-.94-2.06-.94-.94-2.06-.94 2.06-2.06.94z\"/><path d=\"M17.41 7.96l-1.37-1.37c-.4-.4-.92-.59-1.43-.59-.52 0-1.04.2-1.43.59L10.3 9.45l-7.72 7.72c-.78.78-.78 2.05 0 2.83L4 21.41c.39.39.9.59 1.41.59.51 0 1.02-.2 1.41-.59l7.78-7.78 2.81-2.81c.8-.78.8-2.07 0-2.86zM5.41 20L4 18.59l7.72-7.72 1.47 1.35L5.41 20z\"/>\n",
              "  </svg>\n",
              "      </button>\n",
              "      \n",
              "  <style>\n",
              "    .colab-df-container {\n",
              "      display:flex;\n",
              "      flex-wrap:wrap;\n",
              "      gap: 12px;\n",
              "    }\n",
              "\n",
              "    .colab-df-convert {\n",
              "      background-color: #E8F0FE;\n",
              "      border: none;\n",
              "      border-radius: 50%;\n",
              "      cursor: pointer;\n",
              "      display: none;\n",
              "      fill: #1967D2;\n",
              "      height: 32px;\n",
              "      padding: 0 0 0 0;\n",
              "      width: 32px;\n",
              "    }\n",
              "\n",
              "    .colab-df-convert:hover {\n",
              "      background-color: #E2EBFA;\n",
              "      box-shadow: 0px 1px 2px rgba(60, 64, 67, 0.3), 0px 1px 3px 1px rgba(60, 64, 67, 0.15);\n",
              "      fill: #174EA6;\n",
              "    }\n",
              "\n",
              "    [theme=dark] .colab-df-convert {\n",
              "      background-color: #3B4455;\n",
              "      fill: #D2E3FC;\n",
              "    }\n",
              "\n",
              "    [theme=dark] .colab-df-convert:hover {\n",
              "      background-color: #434B5C;\n",
              "      box-shadow: 0px 1px 3px 1px rgba(0, 0, 0, 0.15);\n",
              "      filter: drop-shadow(0px 1px 2px rgba(0, 0, 0, 0.3));\n",
              "      fill: #FFFFFF;\n",
              "    }\n",
              "  </style>\n",
              "\n",
              "      <script>\n",
              "        const buttonEl =\n",
              "          document.querySelector('#df-6bca2c26-2815-4f40-98b8-1bfd791e17f3 button.colab-df-convert');\n",
              "        buttonEl.style.display =\n",
              "          google.colab.kernel.accessAllowed ? 'block' : 'none';\n",
              "\n",
              "        async function convertToInteractive(key) {\n",
              "          const element = document.querySelector('#df-6bca2c26-2815-4f40-98b8-1bfd791e17f3');\n",
              "          const dataTable =\n",
              "            await google.colab.kernel.invokeFunction('convertToInteractive',\n",
              "                                                     [key], {});\n",
              "          if (!dataTable) return;\n",
              "\n",
              "          const docLinkHtml = 'Like what you see? Visit the ' +\n",
              "            '<a target=\"_blank\" href=https://colab.research.google.com/notebooks/data_table.ipynb>data table notebook</a>'\n",
              "            + ' to learn more about interactive tables.';\n",
              "          element.innerHTML = '';\n",
              "          dataTable['output_type'] = 'display_data';\n",
              "          await google.colab.output.renderOutput(dataTable, element);\n",
              "          const docLink = document.createElement('div');\n",
              "          docLink.innerHTML = docLinkHtml;\n",
              "          element.appendChild(docLink);\n",
              "        }\n",
              "      </script>\n",
              "    </div>\n",
              "  </div>\n",
              "  "
            ]
          },
          "metadata": {},
          "execution_count": 3
        }
      ]
    },
    {
      "cell_type": "code",
      "source": [
        "receipts.info()"
      ],
      "metadata": {
        "colab": {
          "base_uri": "https://localhost:8080/"
        },
        "id": "GkFvuFFD00iD",
        "outputId": "2213f161-4c94-476d-a52d-98e692a32609"
      },
      "execution_count": 4,
      "outputs": [
        {
          "output_type": "stream",
          "name": "stdout",
          "text": [
            "<class 'pandas.core.frame.DataFrame'>\n",
            "RangeIndex: 1119 entries, 0 to 1118\n",
            "Data columns (total 15 columns):\n",
            " #   Column                   Non-Null Count  Dtype  \n",
            "---  ------                   --------------  -----  \n",
            " 0   _id                      1119 non-null   object \n",
            " 1   bonusPointsEarned        544 non-null    float64\n",
            " 2   bonusPointsEarnedReason  544 non-null    object \n",
            " 3   createDate               1119 non-null   object \n",
            " 4   dateScanned              1119 non-null   object \n",
            " 5   finishedDate             568 non-null    object \n",
            " 6   modifyDate               1119 non-null   object \n",
            " 7   pointsAwardedDate        537 non-null    object \n",
            " 8   pointsEarned             609 non-null    object \n",
            " 9   purchaseDate             671 non-null    object \n",
            " 10  purchasedItemCount       635 non-null    float64\n",
            " 11  rewardsReceiptItemList   679 non-null    object \n",
            " 12  rewardsReceiptStatus     1119 non-null   object \n",
            " 13  totalSpent               684 non-null    object \n",
            " 14  userId                   1119 non-null   object \n",
            "dtypes: float64(2), object(13)\n",
            "memory usage: 131.3+ KB\n"
          ]
        }
      ]
    },
    {
      "cell_type": "markdown",
      "source": [
        "##### In the above output, we can see that there are a lot of missing values in `bonusPointsEarned`, `bonusPointsEarnedReason`, `finishedDate`, `pointsAwardedDate`, `pointsEarned`, `purchaseDate`, `purchasedItemCount`, `rewardsReceiptItemList`,  and totalSpent features. Let us dig deeper into it."
      ],
      "metadata": {
        "id": "iNPf-lBuFbhm"
      }
    },
    {
      "cell_type": "markdown",
      "source": [
        "#### Checking for null values"
      ],
      "metadata": {
        "id": "PXhWi7ye7h60"
      }
    },
    {
      "cell_type": "code",
      "source": [
        "receipts.isnull().sum()"
      ],
      "metadata": {
        "colab": {
          "base_uri": "https://localhost:8080/"
        },
        "id": "NeOdlos610UX",
        "outputId": "996b6ee3-35c7-4515-bbb1-86927fab919b"
      },
      "execution_count": 5,
      "outputs": [
        {
          "output_type": "execute_result",
          "data": {
            "text/plain": [
              "_id                          0\n",
              "bonusPointsEarned          575\n",
              "bonusPointsEarnedReason    575\n",
              "createDate                   0\n",
              "dateScanned                  0\n",
              "finishedDate               551\n",
              "modifyDate                   0\n",
              "pointsAwardedDate          582\n",
              "pointsEarned               510\n",
              "purchaseDate               448\n",
              "purchasedItemCount         484\n",
              "rewardsReceiptItemList     440\n",
              "rewardsReceiptStatus         0\n",
              "totalSpent                 435\n",
              "userId                       0\n",
              "dtype: int64"
            ]
          },
          "metadata": {},
          "execution_count": 5
        }
      ]
    },
    {
      "cell_type": "markdown",
      "source": [
        "#### Checking the percentage of null values"
      ],
      "metadata": {
        "id": "63TXcpeJFXOl"
      }
    },
    {
      "cell_type": "code",
      "source": [
        "(receipts.isnull().sum()/receipts.shape[0]) * 100"
      ],
      "metadata": {
        "colab": {
          "base_uri": "https://localhost:8080/"
        },
        "id": "gwHzsghW7mKX",
        "outputId": "40cbb819-e370-4ec0-d61a-5f48d93c8a73"
      },
      "execution_count": 6,
      "outputs": [
        {
          "output_type": "execute_result",
          "data": {
            "text/plain": [
              "_id                         0.000000\n",
              "bonusPointsEarned          51.385165\n",
              "bonusPointsEarnedReason    51.385165\n",
              "createDate                  0.000000\n",
              "dateScanned                 0.000000\n",
              "finishedDate               49.240393\n",
              "modifyDate                  0.000000\n",
              "pointsAwardedDate          52.010724\n",
              "pointsEarned               45.576408\n",
              "purchaseDate               40.035746\n",
              "purchasedItemCount         43.252904\n",
              "rewardsReceiptItemList     39.320822\n",
              "rewardsReceiptStatus        0.000000\n",
              "totalSpent                 38.873995\n",
              "userId                      0.000000\n",
              "dtype: float64"
            ]
          },
          "metadata": {},
          "execution_count": 6
        }
      ]
    },
    {
      "cell_type": "markdown",
      "source": [
        "#### Checking for duplicated values"
      ],
      "metadata": {
        "id": "ERwC1EwC7qoI"
      }
    },
    {
      "cell_type": "markdown",
      "source": [
        "##### To inspect the duplicate rows in the dataset, we have to first change the data type of few feature such as `_id`, `createDate`, `dateScanned`, `finishedDate`, `modifyDate`, `pointsAwardedDate`, `purchaseDate`, and `rewardsReceiptItemList`. The data types of these feature is dictionary, annd it should be changed into string format. Also, the `rewardsReceiptItemList` feature is in list format, so that should be changed into string format."
      ],
      "metadata": {
        "id": "uMp2nZ9iG-Mr"
      }
    },
    {
      "cell_type": "code",
      "source": [
        "dict_columns = ['_id', 'createDate', 'dateScanned', 'finishedDate', 'modifyDate', 'pointsAwardedDate', 'purchaseDate', 'rewardsReceiptItemList']  # Specify the columns that contain dictionaries\n",
        "for column in dict_columns:\n",
        "    receipts[column] = receipts[column].apply(json.dumps)"
      ],
      "metadata": {
        "id": "Ta10BFjuG_RB"
      },
      "execution_count": 7,
      "outputs": []
    },
    {
      "cell_type": "code",
      "source": [
        "receipts.duplicated()"
      ],
      "metadata": {
        "colab": {
          "base_uri": "https://localhost:8080/"
        },
        "id": "8PAshgxEJnUn",
        "outputId": "959e7f82-c2f3-4c45-ade6-0b564fd21099"
      },
      "execution_count": 8,
      "outputs": [
        {
          "output_type": "execute_result",
          "data": {
            "text/plain": [
              "0       False\n",
              "1       False\n",
              "2       False\n",
              "3       False\n",
              "4       False\n",
              "        ...  \n",
              "1114    False\n",
              "1115    False\n",
              "1116    False\n",
              "1117    False\n",
              "1118    False\n",
              "Length: 1119, dtype: bool"
            ]
          },
          "metadata": {},
          "execution_count": 8
        }
      ]
    },
    {
      "cell_type": "code",
      "source": [
        "duplicates = receipts.duplicated()\n",
        "duplicated_rows = receipts[duplicates]\n",
        "duplicated_rows"
      ],
      "metadata": {
        "colab": {
          "base_uri": "https://localhost:8080/",
          "height": 113
        },
        "id": "MLATgCmcJyup",
        "outputId": "87e30c27-a3e4-4c0f-af33-9ccb5eba9a77"
      },
      "execution_count": 9,
      "outputs": [
        {
          "output_type": "execute_result",
          "data": {
            "text/plain": [
              "Empty DataFrame\n",
              "Columns: [_id, bonusPointsEarned, bonusPointsEarnedReason, createDate, dateScanned, finishedDate, modifyDate, pointsAwardedDate, pointsEarned, purchaseDate, purchasedItemCount, rewardsReceiptItemList, rewardsReceiptStatus, totalSpent, userId]\n",
              "Index: []"
            ],
            "text/html": [
              "\n",
              "  <div id=\"df-03917700-8a98-4711-8887-de5cd94c2e6b\">\n",
              "    <div class=\"colab-df-container\">\n",
              "      <div>\n",
              "<style scoped>\n",
              "    .dataframe tbody tr th:only-of-type {\n",
              "        vertical-align: middle;\n",
              "    }\n",
              "\n",
              "    .dataframe tbody tr th {\n",
              "        vertical-align: top;\n",
              "    }\n",
              "\n",
              "    .dataframe thead th {\n",
              "        text-align: right;\n",
              "    }\n",
              "</style>\n",
              "<table border=\"1\" class=\"dataframe\">\n",
              "  <thead>\n",
              "    <tr style=\"text-align: right;\">\n",
              "      <th></th>\n",
              "      <th>_id</th>\n",
              "      <th>bonusPointsEarned</th>\n",
              "      <th>bonusPointsEarnedReason</th>\n",
              "      <th>createDate</th>\n",
              "      <th>dateScanned</th>\n",
              "      <th>finishedDate</th>\n",
              "      <th>modifyDate</th>\n",
              "      <th>pointsAwardedDate</th>\n",
              "      <th>pointsEarned</th>\n",
              "      <th>purchaseDate</th>\n",
              "      <th>purchasedItemCount</th>\n",
              "      <th>rewardsReceiptItemList</th>\n",
              "      <th>rewardsReceiptStatus</th>\n",
              "      <th>totalSpent</th>\n",
              "      <th>userId</th>\n",
              "    </tr>\n",
              "  </thead>\n",
              "  <tbody>\n",
              "  </tbody>\n",
              "</table>\n",
              "</div>\n",
              "      <button class=\"colab-df-convert\" onclick=\"convertToInteractive('df-03917700-8a98-4711-8887-de5cd94c2e6b')\"\n",
              "              title=\"Convert this dataframe to an interactive table.\"\n",
              "              style=\"display:none;\">\n",
              "        \n",
              "  <svg xmlns=\"http://www.w3.org/2000/svg\" height=\"24px\"viewBox=\"0 0 24 24\"\n",
              "       width=\"24px\">\n",
              "    <path d=\"M0 0h24v24H0V0z\" fill=\"none\"/>\n",
              "    <path d=\"M18.56 5.44l.94 2.06.94-2.06 2.06-.94-2.06-.94-.94-2.06-.94 2.06-2.06.94zm-11 1L8.5 8.5l.94-2.06 2.06-.94-2.06-.94L8.5 2.5l-.94 2.06-2.06.94zm10 10l.94 2.06.94-2.06 2.06-.94-2.06-.94-.94-2.06-.94 2.06-2.06.94z\"/><path d=\"M17.41 7.96l-1.37-1.37c-.4-.4-.92-.59-1.43-.59-.52 0-1.04.2-1.43.59L10.3 9.45l-7.72 7.72c-.78.78-.78 2.05 0 2.83L4 21.41c.39.39.9.59 1.41.59.51 0 1.02-.2 1.41-.59l7.78-7.78 2.81-2.81c.8-.78.8-2.07 0-2.86zM5.41 20L4 18.59l7.72-7.72 1.47 1.35L5.41 20z\"/>\n",
              "  </svg>\n",
              "      </button>\n",
              "      \n",
              "  <style>\n",
              "    .colab-df-container {\n",
              "      display:flex;\n",
              "      flex-wrap:wrap;\n",
              "      gap: 12px;\n",
              "    }\n",
              "\n",
              "    .colab-df-convert {\n",
              "      background-color: #E8F0FE;\n",
              "      border: none;\n",
              "      border-radius: 50%;\n",
              "      cursor: pointer;\n",
              "      display: none;\n",
              "      fill: #1967D2;\n",
              "      height: 32px;\n",
              "      padding: 0 0 0 0;\n",
              "      width: 32px;\n",
              "    }\n",
              "\n",
              "    .colab-df-convert:hover {\n",
              "      background-color: #E2EBFA;\n",
              "      box-shadow: 0px 1px 2px rgba(60, 64, 67, 0.3), 0px 1px 3px 1px rgba(60, 64, 67, 0.15);\n",
              "      fill: #174EA6;\n",
              "    }\n",
              "\n",
              "    [theme=dark] .colab-df-convert {\n",
              "      background-color: #3B4455;\n",
              "      fill: #D2E3FC;\n",
              "    }\n",
              "\n",
              "    [theme=dark] .colab-df-convert:hover {\n",
              "      background-color: #434B5C;\n",
              "      box-shadow: 0px 1px 3px 1px rgba(0, 0, 0, 0.15);\n",
              "      filter: drop-shadow(0px 1px 2px rgba(0, 0, 0, 0.3));\n",
              "      fill: #FFFFFF;\n",
              "    }\n",
              "  </style>\n",
              "\n",
              "      <script>\n",
              "        const buttonEl =\n",
              "          document.querySelector('#df-03917700-8a98-4711-8887-de5cd94c2e6b button.colab-df-convert');\n",
              "        buttonEl.style.display =\n",
              "          google.colab.kernel.accessAllowed ? 'block' : 'none';\n",
              "\n",
              "        async function convertToInteractive(key) {\n",
              "          const element = document.querySelector('#df-03917700-8a98-4711-8887-de5cd94c2e6b');\n",
              "          const dataTable =\n",
              "            await google.colab.kernel.invokeFunction('convertToInteractive',\n",
              "                                                     [key], {});\n",
              "          if (!dataTable) return;\n",
              "\n",
              "          const docLinkHtml = 'Like what you see? Visit the ' +\n",
              "            '<a target=\"_blank\" href=https://colab.research.google.com/notebooks/data_table.ipynb>data table notebook</a>'\n",
              "            + ' to learn more about interactive tables.';\n",
              "          element.innerHTML = '';\n",
              "          dataTable['output_type'] = 'display_data';\n",
              "          await google.colab.output.renderOutput(dataTable, element);\n",
              "          const docLink = document.createElement('div');\n",
              "          docLink.innerHTML = docLinkHtml;\n",
              "          element.appendChild(docLink);\n",
              "        }\n",
              "      </script>\n",
              "    </div>\n",
              "  </div>\n",
              "  "
            ]
          },
          "metadata": {},
          "execution_count": 9
        }
      ]
    },
    {
      "cell_type": "markdown",
      "source": [
        "#### Checking for outliers"
      ],
      "metadata": {
        "id": "_OXdFBOPjYTp"
      }
    },
    {
      "cell_type": "code",
      "source": [
        "sns.set(style=\"ticks\")\n",
        "plt.figure(figsize=(12, 8))\n",
        "\n",
        "num_cols = receipts.select_dtypes(include='number').columns\n",
        "num_plots = len(num_cols)\n",
        "\n",
        "for i, column in enumerate(num_cols):\n",
        "    plt.subplot(2, 2, i+1)\n",
        "    sns.boxplot(x=receipts[column])\n",
        "    plt.title(f'Boxplot of {column}')\n",
        "\n",
        "plt.subplots_adjust(wspace=0.4, hspace=0.4)\n",
        "\n",
        "plt.tight_layout()\n",
        "plt.show()"
      ],
      "metadata": {
        "colab": {
          "base_uri": "https://localhost:8080/",
          "height": 447
        },
        "id": "H6vEKn8BjYEB",
        "outputId": "dce44108-0241-4a9a-86c9-b7ffde90a7d1"
      },
      "execution_count": 10,
      "outputs": [
        {
          "output_type": "display_data",
          "data": {
            "text/plain": [
              "<Figure size 1200x800 with 2 Axes>"
            ],
            "image/png": "[encoded data removed]"
          },
          "metadata": {}
        }
      ]
    },
    {
      "cell_type": "markdown",
      "source": [
        "## Data quality issues found in the dataset are:\n",
        "\n",
        "1. We can observe that there are a lot of missing values in the the receipts dataset. The highest number of missing values are observed in `pointsAwardedDate` feature with 52%. It is followed by `bonusPointsEarned` and `bonusPointsEarnedReason` with 51% each. There are missing values in other features too.\n",
        "\n",
        "2. While checking for duplicated values, we were not able to find any.\n",
        "\n",
        "3. Also, we can observe that there are some outliers in the `purchasedItemCount` feature."
      ],
      "metadata": {
        "id": "IkPx8kBWMUCc"
      }
    },
    {
      "cell_type": "code",
      "source": [],
      "metadata": {
        "id": "7DBvPiakMEbB"
      },
      "execution_count": 10,
      "outputs": []
    }
  ]
}